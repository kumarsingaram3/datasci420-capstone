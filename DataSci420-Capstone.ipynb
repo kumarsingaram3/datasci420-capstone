{
 "cells": [
  {
   "cell_type": "markdown",
   "metadata": {},
   "source": [
    "# Detecting Faulty Products in the Diaper Manufacturing Process"
   ]
  },
  {
   "cell_type": "markdown",
   "metadata": {},
   "source": [
    "## Introduction\n",
    "\n",
    "The capstone project for Data Science 420 focuses on diaper manufacturing quality. In our previous step, we discovered how the manufacturing process works and that the product quality in this process is monitored using heat sensors, glue sensors, and glue level. To detect faulty products in the manufacturing process, we will use a manufacturing data set from the UCI Machine Learning Repository with 590 individual unlabeled sensors. \n",
    "\n",
    "**Our goal in this project is to predict whether a product in the diaper manufacturing process is faulty.** The target is from a labels file, which we will need to join to our feature set. The data modeling performed within this notebook has been divided into the three main phases shown below.\n",
    "\n",
    "**Phase 1**\n",
    "\n",
    "- Join features to labels\n",
    "- Impute missing data\n",
    "- Remove unncessary columns\n",
    "- Split data into a train, validation, and test set\n",
    "- Solve for class imbalance\n",
    "- Apply feature selection methods\n",
    "- Define performance metrics\n",
    "\n",
    "**Phase 2**\n",
    "\n",
    "- Build & assess benchmark models\n",
    "    - Decision Tree\n",
    "    - Random Forest\n",
    "    - Support Vector Machine\n",
    "\n",
    "**Phase 3**\n",
    "\n",
    "- Build & assess final models\n",
    "    - Fully connected neural network using sklearn\n",
    "    - Fully connected neural network using TensorFlow with dropout"
   ]
  },
  {
   "cell_type": "markdown",
   "metadata": {},
   "source": [
    "## Phase 1"
   ]
  },
  {
   "cell_type": "markdown",
   "metadata": {},
   "source": [
    "### Load Data\n",
    "\n",
    "The first set of data to load is our manufacturing sensor data. Each feature in this data set is a different sensor, providing us information about a given product."
   ]
  },
  {
   "cell_type": "code",
   "execution_count": 1,
   "metadata": {},
   "outputs": [
    {
     "name": "stdout",
     "output_type": "stream",
     "text": [
      "(1567, 590)\n"
     ]
    }
   ],
   "source": [
    "#load data\n",
    "#check data shape\n",
    "\n",
    "import numpy as np\n",
    "import pandas as pd\n",
    "import seaborn as sns\n",
    "import matplotlib.pyplot as plt\n",
    "\n",
    "data = np.loadtxt('data/secom.data')\n",
    "\n",
    "print(data.shape)"
   ]
  },
  {
   "cell_type": "code",
   "execution_count": 2,
   "metadata": {},
   "outputs": [
    {
     "data": {
      "text/html": [
       "<div>\n",
       "<style scoped>\n",
       "    .dataframe tbody tr th:only-of-type {\n",
       "        vertical-align: middle;\n",
       "    }\n",
       "\n",
       "    .dataframe tbody tr th {\n",
       "        vertical-align: top;\n",
       "    }\n",
       "\n",
       "    .dataframe thead th {\n",
       "        text-align: right;\n",
       "    }\n",
       "</style>\n",
       "<table border=\"1\" class=\"dataframe\">\n",
       "  <thead>\n",
       "    <tr style=\"text-align: right;\">\n",
       "      <th></th>\n",
       "      <th>0</th>\n",
       "      <th>1</th>\n",
       "      <th>2</th>\n",
       "      <th>3</th>\n",
       "      <th>4</th>\n",
       "      <th>5</th>\n",
       "      <th>6</th>\n",
       "      <th>7</th>\n",
       "      <th>8</th>\n",
       "      <th>9</th>\n",
       "      <th>...</th>\n",
       "      <th>580</th>\n",
       "      <th>581</th>\n",
       "      <th>582</th>\n",
       "      <th>583</th>\n",
       "      <th>584</th>\n",
       "      <th>585</th>\n",
       "      <th>586</th>\n",
       "      <th>587</th>\n",
       "      <th>588</th>\n",
       "      <th>589</th>\n",
       "    </tr>\n",
       "  </thead>\n",
       "  <tbody>\n",
       "    <tr>\n",
       "      <th>0</th>\n",
       "      <td>3030.93</td>\n",
       "      <td>2564.00</td>\n",
       "      <td>2187.7333</td>\n",
       "      <td>1411.1265</td>\n",
       "      <td>1.3602</td>\n",
       "      <td>100.0</td>\n",
       "      <td>97.6133</td>\n",
       "      <td>0.1242</td>\n",
       "      <td>1.5005</td>\n",
       "      <td>0.0162</td>\n",
       "      <td>...</td>\n",
       "      <td>NaN</td>\n",
       "      <td>NaN</td>\n",
       "      <td>0.5005</td>\n",
       "      <td>0.0118</td>\n",
       "      <td>0.0035</td>\n",
       "      <td>2.3630</td>\n",
       "      <td>NaN</td>\n",
       "      <td>NaN</td>\n",
       "      <td>NaN</td>\n",
       "      <td>NaN</td>\n",
       "    </tr>\n",
       "    <tr>\n",
       "      <th>1</th>\n",
       "      <td>3095.78</td>\n",
       "      <td>2465.14</td>\n",
       "      <td>2230.4222</td>\n",
       "      <td>1463.6606</td>\n",
       "      <td>0.8294</td>\n",
       "      <td>100.0</td>\n",
       "      <td>102.3433</td>\n",
       "      <td>0.1247</td>\n",
       "      <td>1.4966</td>\n",
       "      <td>-0.0005</td>\n",
       "      <td>...</td>\n",
       "      <td>0.0060</td>\n",
       "      <td>208.2045</td>\n",
       "      <td>0.5019</td>\n",
       "      <td>0.0223</td>\n",
       "      <td>0.0055</td>\n",
       "      <td>4.4447</td>\n",
       "      <td>0.0096</td>\n",
       "      <td>0.0201</td>\n",
       "      <td>0.0060</td>\n",
       "      <td>208.2045</td>\n",
       "    </tr>\n",
       "    <tr>\n",
       "      <th>2</th>\n",
       "      <td>2932.61</td>\n",
       "      <td>2559.94</td>\n",
       "      <td>2186.4111</td>\n",
       "      <td>1698.0172</td>\n",
       "      <td>1.5102</td>\n",
       "      <td>100.0</td>\n",
       "      <td>95.4878</td>\n",
       "      <td>0.1241</td>\n",
       "      <td>1.4436</td>\n",
       "      <td>0.0041</td>\n",
       "      <td>...</td>\n",
       "      <td>0.0148</td>\n",
       "      <td>82.8602</td>\n",
       "      <td>0.4958</td>\n",
       "      <td>0.0157</td>\n",
       "      <td>0.0039</td>\n",
       "      <td>3.1745</td>\n",
       "      <td>0.0584</td>\n",
       "      <td>0.0484</td>\n",
       "      <td>0.0148</td>\n",
       "      <td>82.8602</td>\n",
       "    </tr>\n",
       "    <tr>\n",
       "      <th>3</th>\n",
       "      <td>2988.72</td>\n",
       "      <td>2479.90</td>\n",
       "      <td>2199.0333</td>\n",
       "      <td>909.7926</td>\n",
       "      <td>1.3204</td>\n",
       "      <td>100.0</td>\n",
       "      <td>104.2367</td>\n",
       "      <td>0.1217</td>\n",
       "      <td>1.4882</td>\n",
       "      <td>-0.0124</td>\n",
       "      <td>...</td>\n",
       "      <td>0.0044</td>\n",
       "      <td>73.8432</td>\n",
       "      <td>0.4990</td>\n",
       "      <td>0.0103</td>\n",
       "      <td>0.0025</td>\n",
       "      <td>2.0544</td>\n",
       "      <td>0.0202</td>\n",
       "      <td>0.0149</td>\n",
       "      <td>0.0044</td>\n",
       "      <td>73.8432</td>\n",
       "    </tr>\n",
       "    <tr>\n",
       "      <th>4</th>\n",
       "      <td>3032.24</td>\n",
       "      <td>2502.87</td>\n",
       "      <td>2233.3667</td>\n",
       "      <td>1326.5200</td>\n",
       "      <td>1.5334</td>\n",
       "      <td>100.0</td>\n",
       "      <td>100.3967</td>\n",
       "      <td>0.1235</td>\n",
       "      <td>1.5031</td>\n",
       "      <td>-0.0031</td>\n",
       "      <td>...</td>\n",
       "      <td>NaN</td>\n",
       "      <td>NaN</td>\n",
       "      <td>0.4800</td>\n",
       "      <td>0.4766</td>\n",
       "      <td>0.1045</td>\n",
       "      <td>99.3032</td>\n",
       "      <td>0.0202</td>\n",
       "      <td>0.0149</td>\n",
       "      <td>0.0044</td>\n",
       "      <td>73.8432</td>\n",
       "    </tr>\n",
       "  </tbody>\n",
       "</table>\n",
       "<p>5 rows × 590 columns</p>\n",
       "</div>"
      ],
      "text/plain": [
       "       0        1          2          3       4      5         6       7    \\\n",
       "0  3030.93  2564.00  2187.7333  1411.1265  1.3602  100.0   97.6133  0.1242   \n",
       "1  3095.78  2465.14  2230.4222  1463.6606  0.8294  100.0  102.3433  0.1247   \n",
       "2  2932.61  2559.94  2186.4111  1698.0172  1.5102  100.0   95.4878  0.1241   \n",
       "3  2988.72  2479.90  2199.0333   909.7926  1.3204  100.0  104.2367  0.1217   \n",
       "4  3032.24  2502.87  2233.3667  1326.5200  1.5334  100.0  100.3967  0.1235   \n",
       "\n",
       "      8       9    ...     580       581     582     583     584      585  \\\n",
       "0  1.5005  0.0162  ...     NaN       NaN  0.5005  0.0118  0.0035   2.3630   \n",
       "1  1.4966 -0.0005  ...  0.0060  208.2045  0.5019  0.0223  0.0055   4.4447   \n",
       "2  1.4436  0.0041  ...  0.0148   82.8602  0.4958  0.0157  0.0039   3.1745   \n",
       "3  1.4882 -0.0124  ...  0.0044   73.8432  0.4990  0.0103  0.0025   2.0544   \n",
       "4  1.5031 -0.0031  ...     NaN       NaN  0.4800  0.4766  0.1045  99.3032   \n",
       "\n",
       "      586     587     588       589  \n",
       "0     NaN     NaN     NaN       NaN  \n",
       "1  0.0096  0.0201  0.0060  208.2045  \n",
       "2  0.0584  0.0484  0.0148   82.8602  \n",
       "3  0.0202  0.0149  0.0044   73.8432  \n",
       "4  0.0202  0.0149  0.0044   73.8432  \n",
       "\n",
       "[5 rows x 590 columns]"
      ]
     },
     "execution_count": 2,
     "metadata": {},
     "output_type": "execute_result"
    }
   ],
   "source": [
    "secom = pd.DataFrame(data)\n",
    "secom.head()"
   ]
  },
  {
   "cell_type": "markdown",
   "metadata": {},
   "source": [
    "Note that we have 590 different sensors/features and only 1567 observations."
   ]
  },
  {
   "cell_type": "markdown",
   "metadata": {},
   "source": [
    "### Labels\n",
    "\n",
    "The labels data set will help us build our supervised learning models. The target indicates whether a particular observation is faulty. We can use this information to train our models and then predict on a subset of the joined data set. Let's clean this data and then join it to our sensor data."
   ]
  },
  {
   "cell_type": "code",
   "execution_count": 3,
   "metadata": {},
   "outputs": [
    {
     "name": "stdout",
     "output_type": "stream",
     "text": [
      "['-1 \"19/07/2008 11:55:00\"\\n', '-1 \"19/07/2008 12:32:00\"\\n', '1 \"19/07/2008 13:17:00\"\\n']\n"
     ]
    }
   ],
   "source": [
    "#read in labels data\n",
    "\n",
    "with open('data/secom_labels.data', 'r') as f:\n",
    "    labels = f.readlines()\n",
    "    \n",
    "print(labels[:3])"
   ]
  },
  {
   "cell_type": "markdown",
   "metadata": {},
   "source": [
    "To clean our labels, we can start by splitting each value in the list using spaces. Then we can replace any double quote with a single quote and strip any other unnecessary spaces. "
   ]
  },
  {
   "cell_type": "code",
   "execution_count": 4,
   "metadata": {},
   "outputs": [],
   "source": [
    "#split by spaces\n",
    "\n",
    "labels = [label.split(' ') for label in labels]"
   ]
  },
  {
   "cell_type": "code",
   "execution_count": 5,
   "metadata": {},
   "outputs": [],
   "source": [
    "#replace double quotes and strip extra spaces\n",
    "\n",
    "labels = [[entry.strip().replace('\"', '') for entry in label] for label in labels]"
   ]
  },
  {
   "cell_type": "code",
   "execution_count": 6,
   "metadata": {},
   "outputs": [],
   "source": [
    "#convert to dataframe\n",
    "\n",
    "labels = pd.DataFrame(labels, columns = ['target', 'date', 'time'])\n",
    "labels = labels['target']"
   ]
  },
  {
   "cell_type": "markdown",
   "metadata": {},
   "source": [
    "We now have the labels for each obervation. Let's join this to the feature set."
   ]
  },
  {
   "cell_type": "code",
   "execution_count": 7,
   "metadata": {},
   "outputs": [
    {
     "data": {
      "text/html": [
       "<div>\n",
       "<style scoped>\n",
       "    .dataframe tbody tr th:only-of-type {\n",
       "        vertical-align: middle;\n",
       "    }\n",
       "\n",
       "    .dataframe tbody tr th {\n",
       "        vertical-align: top;\n",
       "    }\n",
       "\n",
       "    .dataframe thead th {\n",
       "        text-align: right;\n",
       "    }\n",
       "</style>\n",
       "<table border=\"1\" class=\"dataframe\">\n",
       "  <thead>\n",
       "    <tr style=\"text-align: right;\">\n",
       "      <th></th>\n",
       "      <th>0</th>\n",
       "      <th>1</th>\n",
       "      <th>2</th>\n",
       "      <th>3</th>\n",
       "      <th>4</th>\n",
       "      <th>5</th>\n",
       "      <th>6</th>\n",
       "      <th>7</th>\n",
       "      <th>8</th>\n",
       "      <th>9</th>\n",
       "      <th>...</th>\n",
       "      <th>581</th>\n",
       "      <th>582</th>\n",
       "      <th>583</th>\n",
       "      <th>584</th>\n",
       "      <th>585</th>\n",
       "      <th>586</th>\n",
       "      <th>587</th>\n",
       "      <th>588</th>\n",
       "      <th>589</th>\n",
       "      <th>target</th>\n",
       "    </tr>\n",
       "  </thead>\n",
       "  <tbody>\n",
       "    <tr>\n",
       "      <th>0</th>\n",
       "      <td>3030.93</td>\n",
       "      <td>2564.00</td>\n",
       "      <td>2187.7333</td>\n",
       "      <td>1411.1265</td>\n",
       "      <td>1.3602</td>\n",
       "      <td>100.0</td>\n",
       "      <td>97.6133</td>\n",
       "      <td>0.1242</td>\n",
       "      <td>1.5005</td>\n",
       "      <td>0.0162</td>\n",
       "      <td>...</td>\n",
       "      <td>NaN</td>\n",
       "      <td>0.5005</td>\n",
       "      <td>0.0118</td>\n",
       "      <td>0.0035</td>\n",
       "      <td>2.3630</td>\n",
       "      <td>NaN</td>\n",
       "      <td>NaN</td>\n",
       "      <td>NaN</td>\n",
       "      <td>NaN</td>\n",
       "      <td>-1</td>\n",
       "    </tr>\n",
       "    <tr>\n",
       "      <th>1</th>\n",
       "      <td>3095.78</td>\n",
       "      <td>2465.14</td>\n",
       "      <td>2230.4222</td>\n",
       "      <td>1463.6606</td>\n",
       "      <td>0.8294</td>\n",
       "      <td>100.0</td>\n",
       "      <td>102.3433</td>\n",
       "      <td>0.1247</td>\n",
       "      <td>1.4966</td>\n",
       "      <td>-0.0005</td>\n",
       "      <td>...</td>\n",
       "      <td>208.2045</td>\n",
       "      <td>0.5019</td>\n",
       "      <td>0.0223</td>\n",
       "      <td>0.0055</td>\n",
       "      <td>4.4447</td>\n",
       "      <td>0.0096</td>\n",
       "      <td>0.0201</td>\n",
       "      <td>0.0060</td>\n",
       "      <td>208.2045</td>\n",
       "      <td>-1</td>\n",
       "    </tr>\n",
       "    <tr>\n",
       "      <th>2</th>\n",
       "      <td>2932.61</td>\n",
       "      <td>2559.94</td>\n",
       "      <td>2186.4111</td>\n",
       "      <td>1698.0172</td>\n",
       "      <td>1.5102</td>\n",
       "      <td>100.0</td>\n",
       "      <td>95.4878</td>\n",
       "      <td>0.1241</td>\n",
       "      <td>1.4436</td>\n",
       "      <td>0.0041</td>\n",
       "      <td>...</td>\n",
       "      <td>82.8602</td>\n",
       "      <td>0.4958</td>\n",
       "      <td>0.0157</td>\n",
       "      <td>0.0039</td>\n",
       "      <td>3.1745</td>\n",
       "      <td>0.0584</td>\n",
       "      <td>0.0484</td>\n",
       "      <td>0.0148</td>\n",
       "      <td>82.8602</td>\n",
       "      <td>1</td>\n",
       "    </tr>\n",
       "    <tr>\n",
       "      <th>3</th>\n",
       "      <td>2988.72</td>\n",
       "      <td>2479.90</td>\n",
       "      <td>2199.0333</td>\n",
       "      <td>909.7926</td>\n",
       "      <td>1.3204</td>\n",
       "      <td>100.0</td>\n",
       "      <td>104.2367</td>\n",
       "      <td>0.1217</td>\n",
       "      <td>1.4882</td>\n",
       "      <td>-0.0124</td>\n",
       "      <td>...</td>\n",
       "      <td>73.8432</td>\n",
       "      <td>0.4990</td>\n",
       "      <td>0.0103</td>\n",
       "      <td>0.0025</td>\n",
       "      <td>2.0544</td>\n",
       "      <td>0.0202</td>\n",
       "      <td>0.0149</td>\n",
       "      <td>0.0044</td>\n",
       "      <td>73.8432</td>\n",
       "      <td>-1</td>\n",
       "    </tr>\n",
       "    <tr>\n",
       "      <th>4</th>\n",
       "      <td>3032.24</td>\n",
       "      <td>2502.87</td>\n",
       "      <td>2233.3667</td>\n",
       "      <td>1326.5200</td>\n",
       "      <td>1.5334</td>\n",
       "      <td>100.0</td>\n",
       "      <td>100.3967</td>\n",
       "      <td>0.1235</td>\n",
       "      <td>1.5031</td>\n",
       "      <td>-0.0031</td>\n",
       "      <td>...</td>\n",
       "      <td>NaN</td>\n",
       "      <td>0.4800</td>\n",
       "      <td>0.4766</td>\n",
       "      <td>0.1045</td>\n",
       "      <td>99.3032</td>\n",
       "      <td>0.0202</td>\n",
       "      <td>0.0149</td>\n",
       "      <td>0.0044</td>\n",
       "      <td>73.8432</td>\n",
       "      <td>-1</td>\n",
       "    </tr>\n",
       "  </tbody>\n",
       "</table>\n",
       "<p>5 rows × 591 columns</p>\n",
       "</div>"
      ],
      "text/plain": [
       "         0        1          2          3       4      5         6       7  \\\n",
       "0  3030.93  2564.00  2187.7333  1411.1265  1.3602  100.0   97.6133  0.1242   \n",
       "1  3095.78  2465.14  2230.4222  1463.6606  0.8294  100.0  102.3433  0.1247   \n",
       "2  2932.61  2559.94  2186.4111  1698.0172  1.5102  100.0   95.4878  0.1241   \n",
       "3  2988.72  2479.90  2199.0333   909.7926  1.3204  100.0  104.2367  0.1217   \n",
       "4  3032.24  2502.87  2233.3667  1326.5200  1.5334  100.0  100.3967  0.1235   \n",
       "\n",
       "        8       9  ...       581     582     583     584      585     586  \\\n",
       "0  1.5005  0.0162  ...       NaN  0.5005  0.0118  0.0035   2.3630     NaN   \n",
       "1  1.4966 -0.0005  ...  208.2045  0.5019  0.0223  0.0055   4.4447  0.0096   \n",
       "2  1.4436  0.0041  ...   82.8602  0.4958  0.0157  0.0039   3.1745  0.0584   \n",
       "3  1.4882 -0.0124  ...   73.8432  0.4990  0.0103  0.0025   2.0544  0.0202   \n",
       "4  1.5031 -0.0031  ...       NaN  0.4800  0.4766  0.1045  99.3032  0.0202   \n",
       "\n",
       "      587     588       589  target  \n",
       "0     NaN     NaN       NaN      -1  \n",
       "1  0.0201  0.0060  208.2045      -1  \n",
       "2  0.0484  0.0148   82.8602       1  \n",
       "3  0.0149  0.0044   73.8432      -1  \n",
       "4  0.0149  0.0044   73.8432      -1  \n",
       "\n",
       "[5 rows x 591 columns]"
      ]
     },
     "execution_count": 7,
     "metadata": {},
     "output_type": "execute_result"
    }
   ],
   "source": [
    "#join labels to secom dataset\n",
    "\n",
    "df = secom.join(labels)\n",
    "df.head()"
   ]
  },
  {
   "cell_type": "markdown",
   "metadata": {},
   "source": [
    "### Data Cleaning & Train-Test Split"
   ]
  },
  {
   "cell_type": "markdown",
   "metadata": {},
   "source": [
    "With our data set in one piece, we can now focus on the missing values in the data set. Since we are looking to find features most predictive of defective products, we will likely not find signal in columns with an excessive number of missing values given the size of our data set. Let's go ahead and drop columns that have > 30% of the 1567 observations as null values because we are unlikely to find any of these features to be useful in our model."
   ]
  },
  {
   "cell_type": "code",
   "execution_count": 8,
   "metadata": {},
   "outputs": [],
   "source": [
    "#dropping columns with over 30% null values\n",
    "drop_na = list(df.loc[:,df.isna().sum() > (df.count())*(3/10)].columns)\n",
    "df.drop(drop_na, axis=1, inplace=True)"
   ]
  },
  {
   "cell_type": "markdown",
   "metadata": {},
   "source": [
    "The target also had the negative cases (no defect) as -1. It is good practice to replace these values with 0."
   ]
  },
  {
   "cell_type": "code",
   "execution_count": 9,
   "metadata": {},
   "outputs": [],
   "source": [
    "#replace -1 in target with 0\n",
    "df['target'] = df['target'].replace('-1', 0)"
   ]
  },
  {
   "cell_type": "markdown",
   "metadata": {},
   "source": [
    "Before we do any further analysis, we must split our data set into a train, validation, and test set. To understand whether the models we build are high performing, they must be able to generalize well on unseen data. In supervised learning, an under fit model occurs when it is unable to capture the underlying pattern of a data set. An over fit model occurs when a model captures the noise of the data, along with the underlying pattern. As we build our models, we are looking to choose a model that captures regularities in the training data, but can also generalize on unseen data.\n",
    "\n",
    "By setting aside 20% of our data to the validation and test set (10% each), we can use our models that we trained on the other 80% to predict on unseen data. This is a way for us to simulate the future performance of the model in production. The validation set can help us tune the parameters of each model, while the test set will be saved until the very end of our data modeling process."
   ]
  },
  {
   "cell_type": "code",
   "execution_count": 10,
   "metadata": {},
   "outputs": [],
   "source": [
    "#drop target from X\n",
    "\n",
    "X = df.drop(['target'], axis = 1)\n",
    "y = df['target'].astype('int64')"
   ]
  },
  {
   "cell_type": "code",
   "execution_count": 11,
   "metadata": {},
   "outputs": [],
   "source": [
    "#split into 80-20 train-val/test\n",
    "#50-50 val/test\n",
    "\n",
    "from sklearn.model_selection import train_test_split\n",
    "\n",
    "X_train, X_test, y_train, y_test = train_test_split(X, y, test_size = 0.20, random_state = 1)\n",
    "\n",
    "X_valid, X_test, y_valid, y_test = train_test_split(X_test, y_test, test_size = 0.50, random_state = 1)"
   ]
  },
  {
   "cell_type": "code",
   "execution_count": 12,
   "metadata": {},
   "outputs": [],
   "source": [
    "X_train = X_train.reset_index(drop = True)\n",
    "X_valid = X_valid.reset_index(drop = True)\n",
    "X_test = X_test.reset_index(drop = True)"
   ]
  },
  {
   "cell_type": "code",
   "execution_count": 13,
   "metadata": {},
   "outputs": [
    {
     "name": "stdout",
     "output_type": "stream",
     "text": [
      "X train shape: (1253, 558)\n",
      "X validation shape: (157, 558)\n",
      "X test shape: (157, 558)\n"
     ]
    }
   ],
   "source": [
    "print('X train shape: {}'.format(X_train.shape))\n",
    "print('X validation shape: {}'.format(X_valid.shape))\n",
    "print('X test shape: {}'.format(X_test.shape))"
   ]
  },
  {
   "cell_type": "markdown",
   "metadata": {},
   "source": [
    "Splitting our data into three sets left us with the above. Notice how we have 558 features in each of our data sets. Many of these features are not likely to be predictive and keeping them leads to unnecessary complexity and will cause longer runtimes for the models we will be building. In our next steps, we will impute missing values, standardize each data set, deal with class imbalance, and then look to narrow down our feature set."
   ]
  },
  {
   "cell_type": "code",
   "execution_count": 14,
   "metadata": {},
   "outputs": [],
   "source": [
    "#fill missing values with the mean of the train set\n",
    "\n",
    "for column in X_train.columns:\n",
    "    X_train[column].fillna(X_train[column].mean(), inplace=True)\n",
    "    X_valid[column].fillna(X_train[column].mean(), inplace=True)\n",
    "    X_test[column].fillna(X_train[column].mean(), inplace=True)"
   ]
  },
  {
   "cell_type": "markdown",
   "metadata": {},
   "source": [
    "Notice how we used the mean of the train set to impute all three data sets. Part of the model building process is not allowing any information from the train set to leak into the validation/test set. Allowing data leakage will not deliver an accurate simulation of how the model might perform in production. We will therefore, use the same logic to standardize each data set below."
   ]
  },
  {
   "cell_type": "code",
   "execution_count": 15,
   "metadata": {},
   "outputs": [
    {
     "data": {
      "text/html": [
       "<div>\n",
       "<style scoped>\n",
       "    .dataframe tbody tr th:only-of-type {\n",
       "        vertical-align: middle;\n",
       "    }\n",
       "\n",
       "    .dataframe tbody tr th {\n",
       "        vertical-align: top;\n",
       "    }\n",
       "\n",
       "    .dataframe thead th {\n",
       "        text-align: right;\n",
       "    }\n",
       "</style>\n",
       "<table border=\"1\" class=\"dataframe\">\n",
       "  <thead>\n",
       "    <tr style=\"text-align: right;\">\n",
       "      <th></th>\n",
       "      <th>0</th>\n",
       "      <th>1</th>\n",
       "      <th>2</th>\n",
       "      <th>3</th>\n",
       "      <th>4</th>\n",
       "      <th>5</th>\n",
       "      <th>6</th>\n",
       "      <th>7</th>\n",
       "      <th>8</th>\n",
       "      <th>9</th>\n",
       "      <th>...</th>\n",
       "      <th>576</th>\n",
       "      <th>577</th>\n",
       "      <th>582</th>\n",
       "      <th>583</th>\n",
       "      <th>584</th>\n",
       "      <th>585</th>\n",
       "      <th>586</th>\n",
       "      <th>587</th>\n",
       "      <th>588</th>\n",
       "      <th>589</th>\n",
       "    </tr>\n",
       "  </thead>\n",
       "  <tbody>\n",
       "    <tr>\n",
       "      <th>0</th>\n",
       "      <td>-0.958601</td>\n",
       "      <td>0.927555</td>\n",
       "      <td>-0.213206</td>\n",
       "      <td>2.119234</td>\n",
       "      <td>-0.040224</td>\n",
       "      <td>0.0</td>\n",
       "      <td>-2.270271</td>\n",
       "      <td>0.145725</td>\n",
       "      <td>-0.562111</td>\n",
       "      <td>0.600802</td>\n",
       "      <td>...</td>\n",
       "      <td>4.793848</td>\n",
       "      <td>6.258281</td>\n",
       "      <td>-0.699295</td>\n",
       "      <td>0.051608</td>\n",
       "      <td>-0.089278</td>\n",
       "      <td>0.051607</td>\n",
       "      <td>2.667230</td>\n",
       "      <td>0.127941</td>\n",
       "      <td>-0.080762</td>\n",
       "      <td>-0.716431</td>\n",
       "    </tr>\n",
       "    <tr>\n",
       "      <th>1</th>\n",
       "      <td>-1.059148</td>\n",
       "      <td>0.038292</td>\n",
       "      <td>-2.912957</td>\n",
       "      <td>0.330101</td>\n",
       "      <td>-0.057009</td>\n",
       "      <td>0.0</td>\n",
       "      <td>-0.367259</td>\n",
       "      <td>0.535636</td>\n",
       "      <td>-0.241648</td>\n",
       "      <td>-0.671046</td>\n",
       "      <td>...</td>\n",
       "      <td>-0.226081</td>\n",
       "      <td>0.318446</td>\n",
       "      <td>0.399258</td>\n",
       "      <td>-0.384719</td>\n",
       "      <td>-0.355759</td>\n",
       "      <td>-0.371223</td>\n",
       "      <td>0.025725</td>\n",
       "      <td>-0.256531</td>\n",
       "      <td>-0.283599</td>\n",
       "      <td>-0.372816</td>\n",
       "    </tr>\n",
       "    <tr>\n",
       "      <th>2</th>\n",
       "      <td>-1.433404</td>\n",
       "      <td>0.754126</td>\n",
       "      <td>0.100630</td>\n",
       "      <td>2.788137</td>\n",
       "      <td>-0.053570</td>\n",
       "      <td>0.0</td>\n",
       "      <td>-2.381693</td>\n",
       "      <td>0.183458</td>\n",
       "      <td>-0.251034</td>\n",
       "      <td>-0.573212</td>\n",
       "      <td>...</td>\n",
       "      <td>-0.254379</td>\n",
       "      <td>0.291199</td>\n",
       "      <td>-0.439112</td>\n",
       "      <td>-0.006218</td>\n",
       "      <td>0.056075</td>\n",
       "      <td>-0.005771</td>\n",
       "      <td>-0.897211</td>\n",
       "      <td>0.204835</td>\n",
       "      <td>0.257299</td>\n",
       "      <td>0.801493</td>\n",
       "    </tr>\n",
       "    <tr>\n",
       "      <th>3</th>\n",
       "      <td>0.462736</td>\n",
       "      <td>-0.761869</td>\n",
       "      <td>0.418952</td>\n",
       "      <td>-0.654294</td>\n",
       "      <td>-0.066859</td>\n",
       "      <td>0.0</td>\n",
       "      <td>0.488114</td>\n",
       "      <td>-0.105831</td>\n",
       "      <td>1.316421</td>\n",
       "      <td>0.013795</td>\n",
       "      <td>...</td>\n",
       "      <td>-0.233396</td>\n",
       "      <td>-0.689358</td>\n",
       "      <td>-1.046207</td>\n",
       "      <td>-0.248038</td>\n",
       "      <td>-0.186181</td>\n",
       "      <td>-0.233365</td>\n",
       "      <td>-0.411874</td>\n",
       "      <td>1.665826</td>\n",
       "      <td>1.643351</td>\n",
       "      <td>0.956293</td>\n",
       "    </tr>\n",
       "    <tr>\n",
       "      <th>4</th>\n",
       "      <td>-0.299742</td>\n",
       "      <td>1.183426</td>\n",
       "      <td>0.760062</td>\n",
       "      <td>0.772441</td>\n",
       "      <td>-0.046513</td>\n",
       "      <td>0.0</td>\n",
       "      <td>-0.689508</td>\n",
       "      <td>0.271502</td>\n",
       "      <td>1.197086</td>\n",
       "      <td>-1.740703</td>\n",
       "      <td>...</td>\n",
       "      <td>-0.211346</td>\n",
       "      <td>-0.467898</td>\n",
       "      <td>1.121990</td>\n",
       "      <td>-0.016732</td>\n",
       "      <td>-0.040827</td>\n",
       "      <td>-0.021685</td>\n",
       "      <td>-0.395961</td>\n",
       "      <td>-0.377364</td>\n",
       "      <td>-0.486436</td>\n",
       "      <td>-0.228242</td>\n",
       "    </tr>\n",
       "  </tbody>\n",
       "</table>\n",
       "<p>5 rows × 558 columns</p>\n",
       "</div>"
      ],
      "text/plain": [
       "        0         1         2         3         4    5         6         7    \\\n",
       "0 -0.958601  0.927555 -0.213206  2.119234 -0.040224  0.0 -2.270271  0.145725   \n",
       "1 -1.059148  0.038292 -2.912957  0.330101 -0.057009  0.0 -0.367259  0.535636   \n",
       "2 -1.433404  0.754126  0.100630  2.788137 -0.053570  0.0 -2.381693  0.183458   \n",
       "3  0.462736 -0.761869  0.418952 -0.654294 -0.066859  0.0  0.488114 -0.105831   \n",
       "4 -0.299742  1.183426  0.760062  0.772441 -0.046513  0.0 -0.689508  0.271502   \n",
       "\n",
       "        8         9    ...       576       577       582       583       584  \\\n",
       "0 -0.562111  0.600802  ...  4.793848  6.258281 -0.699295  0.051608 -0.089278   \n",
       "1 -0.241648 -0.671046  ... -0.226081  0.318446  0.399258 -0.384719 -0.355759   \n",
       "2 -0.251034 -0.573212  ... -0.254379  0.291199 -0.439112 -0.006218  0.056075   \n",
       "3  1.316421  0.013795  ... -0.233396 -0.689358 -1.046207 -0.248038 -0.186181   \n",
       "4  1.197086 -1.740703  ... -0.211346 -0.467898  1.121990 -0.016732 -0.040827   \n",
       "\n",
       "        585       586       587       588       589  \n",
       "0  0.051607  2.667230  0.127941 -0.080762 -0.716431  \n",
       "1 -0.371223  0.025725 -0.256531 -0.283599 -0.372816  \n",
       "2 -0.005771 -0.897211  0.204835  0.257299  0.801493  \n",
       "3 -0.233365 -0.411874  1.665826  1.643351  0.956293  \n",
       "4 -0.021685 -0.395961 -0.377364 -0.486436 -0.228242  \n",
       "\n",
       "[5 rows x 558 columns]"
      ]
     },
     "execution_count": 15,
     "metadata": {},
     "output_type": "execute_result"
    }
   ],
   "source": [
    "#initialize standardscaler\n",
    "#fit numeric columns on train set\n",
    "#apply to each data set\n",
    "from sklearn.preprocessing import StandardScaler\n",
    "\n",
    "znormalizer = StandardScaler()\n",
    "znormalizer.fit(X_train)\n",
    "X_train = pd.DataFrame(znormalizer.transform(X_train), columns = X_train.columns)\n",
    "X_valid = pd.DataFrame(znormalizer.transform(X_valid), columns = X_valid.columns)\n",
    "X_test = pd.DataFrame(znormalizer.transform(X_test), columns = X_test.columns)\n",
    "X_train.head()"
   ]
  },
  {
   "cell_type": "markdown",
   "metadata": {},
   "source": [
    "### Dealing with Class Imbalance"
   ]
  },
  {
   "cell_type": "markdown",
   "metadata": {},
   "source": [
    "Before we begin feature selection and modeling, it is essential to check the distribution of our target. An imbalanced target can lead to biases in our predictions towards the majority class. In our case, we are dealing with defects in the manufacturing process. Given the context, it is likely that positive cases are very low in proportion to negative cases. Because we are more interested in the model identifying the minority class (when there is a defect in the manufacturing process), we must pay special attention to the class imbalance problem in this data set. Our models will likely have challenges predicting the minority class because of the lack of historical examples each model will be able to train on.\n",
    "\n",
    "Before we apply any methods to solve for this problem, let's take a look at the distribution of the target feature."
   ]
  },
  {
   "cell_type": "code",
   "execution_count": 16,
   "metadata": {},
   "outputs": [
    {
     "data": {
      "text/plain": [
       "0    1169\n",
       "1      84\n",
       "Name: target, dtype: int64"
      ]
     },
     "execution_count": 16,
     "metadata": {},
     "output_type": "execute_result"
    }
   ],
   "source": [
    "y_train.value_counts()"
   ]
  },
  {
   "cell_type": "markdown",
   "metadata": {},
   "source": [
    "This is clearly a very imbalanced data set with only 7% of the cases as positive (class 1). To balance the classes, we can use SMOTE to over sample the minority class (in this case, the defects). SMOTE will balance the number of observations in each class by manufacturing synthetic data using a kmeans clustering algorithm.\n",
    "\n",
    "SMOTE is a widely used approach to synthesizing new examples in a data set. The algorithm selects a minority class at random, finds its k nearest minority class neighbor, and then creates a synthetic instance by choosing one of the k nearest neighbors at random to form a line segment in the feature space. SMOTE is useful to us because we should see a balanced set of positive and negative classes in our training data after it is applied.\n",
    "\n",
    "In the next step, we will apply SMOTE to *both the training and validation set*. Due to imbalance in each of our data sets and the small overall sample size we are dealing with, we should expect model selection to be a challenge. When the minority class has few samples, results can be both difficult to trust and replicate. By balancing both train and validation sets, there is a high likelihood of a large variance in performance between train-validation to test set (because we will not be balancing our test set target variable). However, making this intentional adjustment can help us select more a consistent and robust model for production."
   ]
  },
  {
   "cell_type": "code",
   "execution_count": 17,
   "metadata": {},
   "outputs": [],
   "source": [
    "#set number of k nearest neighbors\n",
    "#fit on training data\n",
    "\n",
    "from imblearn.over_sampling import SMOTE\n",
    "smote = SMOTE(random_state=0, k_neighbors = 8)\n",
    "X_train, y_train = smote.fit_resample(X_train, y_train)\n",
    "X_valid, y_valid = smote.fit_resample(X_valid, y_valid)"
   ]
  },
  {
   "cell_type": "code",
   "execution_count": 18,
   "metadata": {},
   "outputs": [
    {
     "name": "stdout",
     "output_type": "stream",
     "text": [
      "1    1169\n",
      "0    1169\n",
      "Name: target, dtype: int64\n",
      "1    147\n",
      "0    147\n",
      "Name: target, dtype: int64\n"
     ]
    }
   ],
   "source": [
    "#check class distributions\n",
    "\n",
    "print(y_train.value_counts())\n",
    "print(y_valid.value_counts())"
   ]
  },
  {
   "cell_type": "markdown",
   "metadata": {},
   "source": [
    "The classes are now balanced in both data sets, meaning SMOTE did its job. We can now move into feature selection. "
   ]
  },
  {
   "cell_type": "markdown",
   "metadata": {},
   "source": [
    "### Feature Selection\n",
    "\n",
    "We're going to start by doing a simple mutual information classification to give us a subset of important features to use in our predictive model. Mutual information highlights important statistical dependencies within in our data set in the context of our target variable.\n",
    "\n",
    "The definition for mutual information is provided below:\n",
    "\n",
    "*A quantity called mutual information measures the amount of information one can obtain from one random variable given another*\n",
    "\n",
    "Running a mutual information classification is an efficient way of selecting a set of features that can explain the target variable from a larger data set. We can then use the subset of features chosen by the mutual information classification and run a stepwise feature selection algorithm to iteratively select a smaller set of predictive features for our model. By using mutual information classification in our first step, our recursive feature elimination step that we perform later will be able to run more efficiently because we will have already narrowed down our features from the original data set."
   ]
  },
  {
   "cell_type": "code",
   "execution_count": 19,
   "metadata": {
    "scrolled": true
   },
   "outputs": [],
   "source": [
    "#run mutual info classification\n",
    "#convert output to list and show 125 highest mutual information features\n",
    "\n",
    "from sklearn.feature_selection import mutual_info_classif\n",
    "import heapq\n",
    "\n",
    "mi_score = mutual_info_classif(np.array(X_train), y_train, random_state = 7)\n",
    "\n",
    "mi = mi_score.tolist()\n",
    "num = 125\n",
    "\n",
    "m = heapq.nlargest(num, enumerate(mi), key = lambda mi: mi[1])"
   ]
  },
  {
   "cell_type": "markdown",
   "metadata": {},
   "source": [
    "We now have the 125 features with the highest mutual information, as shown in the list above. We can use these features to subset our original data set before using a step wise feature selection method called recursive feature elimination (RFE).\n",
    "\n",
    "Before moving onto RFE, let's subset our features on the ones we selected using mutual information classification."
   ]
  },
  {
   "cell_type": "code",
   "execution_count": 21,
   "metadata": {},
   "outputs": [
    {
     "data": {
      "text/html": [
       "<div>\n",
       "<style scoped>\n",
       "    .dataframe tbody tr th:only-of-type {\n",
       "        vertical-align: middle;\n",
       "    }\n",
       "\n",
       "    .dataframe tbody tr th {\n",
       "        vertical-align: top;\n",
       "    }\n",
       "\n",
       "    .dataframe thead th {\n",
       "        text-align: right;\n",
       "    }\n",
       "</style>\n",
       "<table border=\"1\" class=\"dataframe\">\n",
       "  <thead>\n",
       "    <tr style=\"text-align: right;\">\n",
       "      <th></th>\n",
       "      <th>376</th>\n",
       "      <th>166</th>\n",
       "      <th>131</th>\n",
       "      <th>143</th>\n",
       "      <th>366</th>\n",
       "      <th>584</th>\n",
       "      <th>219</th>\n",
       "      <th>377</th>\n",
       "      <th>121</th>\n",
       "      <th>239</th>\n",
       "      <th>...</th>\n",
       "      <th>171</th>\n",
       "      <th>551</th>\n",
       "      <th>58</th>\n",
       "      <th>19</th>\n",
       "      <th>311</th>\n",
       "      <th>560</th>\n",
       "      <th>587</th>\n",
       "      <th>227</th>\n",
       "      <th>561</th>\n",
       "      <th>447</th>\n",
       "    </tr>\n",
       "  </thead>\n",
       "  <tbody>\n",
       "    <tr>\n",
       "      <th>0</th>\n",
       "      <td>0.002389</td>\n",
       "      <td>-0.166872</td>\n",
       "      <td>0.704207</td>\n",
       "      <td>-0.823328</td>\n",
       "      <td>-0.342906</td>\n",
       "      <td>-0.089278</td>\n",
       "      <td>0.326860</td>\n",
       "      <td>0.055307</td>\n",
       "      <td>0.344013</td>\n",
       "      <td>-0.069668</td>\n",
       "      <td>...</td>\n",
       "      <td>-0.780339</td>\n",
       "      <td>-7.015448e-01</td>\n",
       "      <td>0.497086</td>\n",
       "      <td>-0.389515</td>\n",
       "      <td>0.134134</td>\n",
       "      <td>-0.094124</td>\n",
       "      <td>0.127941</td>\n",
       "      <td>-0.272353</td>\n",
       "      <td>-0.027531</td>\n",
       "      <td>-0.118287</td>\n",
       "    </tr>\n",
       "    <tr>\n",
       "      <th>1</th>\n",
       "      <td>1.123169</td>\n",
       "      <td>-0.608406</td>\n",
       "      <td>-1.153850</td>\n",
       "      <td>0.279585</td>\n",
       "      <td>-0.699495</td>\n",
       "      <td>-0.355759</td>\n",
       "      <td>-0.331345</td>\n",
       "      <td>0.504585</td>\n",
       "      <td>-0.674042</td>\n",
       "      <td>0.075227</td>\n",
       "      <td>...</td>\n",
       "      <td>-0.291039</td>\n",
       "      <td>-2.758800e-16</td>\n",
       "      <td>-1.085006</td>\n",
       "      <td>-0.351687</td>\n",
       "      <td>1.272236</td>\n",
       "      <td>0.048701</td>\n",
       "      <td>-0.256531</td>\n",
       "      <td>-0.631415</td>\n",
       "      <td>0.544045</td>\n",
       "      <td>0.990386</td>\n",
       "    </tr>\n",
       "    <tr>\n",
       "      <th>2</th>\n",
       "      <td>0.375982</td>\n",
       "      <td>1.246035</td>\n",
       "      <td>0.571488</td>\n",
       "      <td>-2.083800</td>\n",
       "      <td>-0.654921</td>\n",
       "      <td>0.056075</td>\n",
       "      <td>0.147350</td>\n",
       "      <td>-1.067890</td>\n",
       "      <td>-2.506541</td>\n",
       "      <td>-0.576801</td>\n",
       "      <td>...</td>\n",
       "      <td>-0.581357</td>\n",
       "      <td>-4.406296e-01</td>\n",
       "      <td>-0.684255</td>\n",
       "      <td>0.345927</td>\n",
       "      <td>1.090698</td>\n",
       "      <td>-0.522597</td>\n",
       "      <td>0.204835</td>\n",
       "      <td>0.187984</td>\n",
       "      <td>-0.408390</td>\n",
       "      <td>1.290749</td>\n",
       "    </tr>\n",
       "    <tr>\n",
       "      <th>3</th>\n",
       "      <td>0.749576</td>\n",
       "      <td>-0.608406</td>\n",
       "      <td>0.969643</td>\n",
       "      <td>-0.193092</td>\n",
       "      <td>-0.521200</td>\n",
       "      <td>-0.186181</td>\n",
       "      <td>0.685881</td>\n",
       "      <td>-0.843250</td>\n",
       "      <td>-0.266820</td>\n",
       "      <td>-0.721696</td>\n",
       "      <td>...</td>\n",
       "      <td>-0.224169</td>\n",
       "      <td>-2.758800e-16</td>\n",
       "      <td>-0.433351</td>\n",
       "      <td>-0.061821</td>\n",
       "      <td>1.520105</td>\n",
       "      <td>3.461252</td>\n",
       "      <td>1.665826</td>\n",
       "      <td>0.132743</td>\n",
       "      <td>1.158870</td>\n",
       "      <td>1.381205</td>\n",
       "    </tr>\n",
       "    <tr>\n",
       "      <th>4</th>\n",
       "      <td>0.375982</td>\n",
       "      <td>0.098048</td>\n",
       "      <td>-0.578737</td>\n",
       "      <td>-0.980887</td>\n",
       "      <td>-0.744068</td>\n",
       "      <td>-0.040827</td>\n",
       "      <td>1.463760</td>\n",
       "      <td>0.504585</td>\n",
       "      <td>-0.572237</td>\n",
       "      <td>-0.214563</td>\n",
       "      <td>...</td>\n",
       "      <td>-0.085534</td>\n",
       "      <td>1.930214e-01</td>\n",
       "      <td>1.494896</td>\n",
       "      <td>0.325254</td>\n",
       "      <td>0.560050</td>\n",
       "      <td>-0.050324</td>\n",
       "      <td>-0.377364</td>\n",
       "      <td>-0.272353</td>\n",
       "      <td>0.434010</td>\n",
       "      <td>0.855861</td>\n",
       "    </tr>\n",
       "  </tbody>\n",
       "</table>\n",
       "<p>5 rows × 125 columns</p>\n",
       "</div>"
      ],
      "text/plain": [
       "        376       166       131       143       366       584       219  \\\n",
       "0  0.002389 -0.166872  0.704207 -0.823328 -0.342906 -0.089278  0.326860   \n",
       "1  1.123169 -0.608406 -1.153850  0.279585 -0.699495 -0.355759 -0.331345   \n",
       "2  0.375982  1.246035  0.571488 -2.083800 -0.654921  0.056075  0.147350   \n",
       "3  0.749576 -0.608406  0.969643 -0.193092 -0.521200 -0.186181  0.685881   \n",
       "4  0.375982  0.098048 -0.578737 -0.980887 -0.744068 -0.040827  1.463760   \n",
       "\n",
       "        377       121       239  ...       171           551       58   \\\n",
       "0  0.055307  0.344013 -0.069668  ... -0.780339 -7.015448e-01  0.497086   \n",
       "1  0.504585 -0.674042  0.075227  ... -0.291039 -2.758800e-16 -1.085006   \n",
       "2 -1.067890 -2.506541 -0.576801  ... -0.581357 -4.406296e-01 -0.684255   \n",
       "3 -0.843250 -0.266820 -0.721696  ... -0.224169 -2.758800e-16 -0.433351   \n",
       "4  0.504585 -0.572237 -0.214563  ... -0.085534  1.930214e-01  1.494896   \n",
       "\n",
       "        19        311       560       587       227       561       447  \n",
       "0 -0.389515  0.134134 -0.094124  0.127941 -0.272353 -0.027531 -0.118287  \n",
       "1 -0.351687  1.272236  0.048701 -0.256531 -0.631415  0.544045  0.990386  \n",
       "2  0.345927  1.090698 -0.522597  0.204835  0.187984 -0.408390  1.290749  \n",
       "3 -0.061821  1.520105  3.461252  1.665826  0.132743  1.158870  1.381205  \n",
       "4  0.325254  0.560050 -0.050324 -0.377364 -0.272353  0.434010  0.855861  \n",
       "\n",
       "[5 rows x 125 columns]"
      ]
     },
     "execution_count": 21,
     "metadata": {},
     "output_type": "execute_result"
    }
   ],
   "source": [
    "X_col = [i[0] for i in m]\n",
    "X_train = X_train.iloc[:, X_col]\n",
    "X_train.head()"
   ]
  },
  {
   "cell_type": "code",
   "execution_count": 22,
   "metadata": {},
   "outputs": [],
   "source": [
    "#repeat for validation and test set\n",
    "\n",
    "X_valid = X_valid.iloc[:, X_col]\n",
    "X_test = X_test.iloc[:, X_col]"
   ]
  },
  {
   "cell_type": "markdown",
   "metadata": {},
   "source": [
    "We are going to use a recursive feature elimination (RFE) random forest classifier to choose the best features from our subsetted data. RFE is a wrapper style feature selection method that ranks all of the features in our data by importance. Then, the least important features are pruned from the current set of features. This procedure is recursively repeated until we reach a desired number of features. We will perform this model by allowing it to specify the non essential features. Then, we can simply subset the data on only the important features specified by RFE. Because this process can be computationally expensive, we will set our cross validation parameter to 3. \n",
    "\n",
    "After running RFE, we can output a chart that will inform us of our classification accuracy by # of features. This can tell us where accuracy tends to plateau."
   ]
  },
  {
   "cell_type": "markdown",
   "metadata": {},
   "source": [
    "**Note: Long run time**"
   ]
  },
  {
   "cell_type": "code",
   "execution_count": 23,
   "metadata": {},
   "outputs": [
    {
     "data": {
      "text/plain": [
       "RFECV(cv=StratifiedKFold(n_splits=3, random_state=None, shuffle=False),\n",
       "      estimator=RandomForestClassifier(), scoring='f1_weighted')"
      ]
     },
     "execution_count": 23,
     "metadata": {},
     "output_type": "execute_result"
    }
   ],
   "source": [
    "#initialize random forest classifier\n",
    "#set cvs and performance metric\n",
    "#fit\n",
    "\n",
    "from sklearn.ensemble import RandomForestClassifier\n",
    "from sklearn.model_selection import StratifiedKFold\n",
    "from sklearn.feature_selection import RFECV\n",
    "\n",
    "rfc = RandomForestClassifier()\n",
    "rfecv = RFECV(estimator=rfc, step=1, cv=StratifiedKFold(3), scoring='f1_weighted')\n",
    "rfecv.fit(X_train, y_train)"
   ]
  },
  {
   "cell_type": "code",
   "execution_count": 24,
   "metadata": {},
   "outputs": [
    {
     "data": {
      "image/png": "[encoded data removed]",
      "text/plain": [
       "<Figure size 864x576 with 1 Axes>"
      ]
     },
     "metadata": {
      "needs_background": "light"
     },
     "output_type": "display_data"
    }
   ],
   "source": [
    "plt.figure(figsize=(12, 8))\n",
    "plt.title('Recursive Feature Elimination with Cross-Validation', fontsize=18, pad=20)\n",
    "plt.xlabel('Number of features selected', fontsize=14, labelpad=20)\n",
    "plt.ylabel('% Correct Classification', fontsize=14, labelpad=20)\n",
    "plt.plot(range(1, len(rfecv.grid_scores_) + 1), rfecv.grid_scores_, color='#303F9F', linewidth=3)\n",
    "\n",
    "plt.show()"
   ]
  },
  {
   "cell_type": "markdown",
   "metadata": {},
   "source": [
    "Note that we used the F1 weighted score to classify our observations. Given that we are looking to predict defective products and see extreme class imbalance in our data set, we need to prioritize performance metrics that will tell us how well we are predicting positive cases. The F1 weighted score can be interpreted as the weighted average of the model's precision and recall.\n",
    "\n",
    "In addition to the F1 score, we will be using a few other performance metrics to evaluate our models' performance going forward. We will be reviewing the AUC (area under the curve), precision, recall, accuracy, and F1 score for each model. We can also see the actual number observations classified into each bucket (TP, FP, TN, FN) using a confusion matrix.\n",
    "\n",
    "In our next step, we can output the features RFE did not find to be predictive."
   ]
  },
  {
   "cell_type": "code",
   "execution_count": 25,
   "metadata": {},
   "outputs": [
    {
     "name": "stdout",
     "output_type": "stream",
     "text": [
      "[ 64  82 106]\n"
     ]
    }
   ],
   "source": [
    "#output unimportant features\n",
    "\n",
    "print(np.where(rfecv.support_ == False)[0])"
   ]
  },
  {
   "cell_type": "markdown",
   "metadata": {},
   "source": [
    "The array above shows 3 sensors that RFE did not find to be predictive. We can now subset our data sets on the remaining features."
   ]
  },
  {
   "cell_type": "code",
   "execution_count": 26,
   "metadata": {},
   "outputs": [],
   "source": [
    "#store important features in RFE_col\n",
    "\n",
    "back_features = pd.DataFrame(rfecv.support_)\n",
    "sel_back = back_features[0].loc[back_features[0] == True]\n",
    "RFE_col = sel_back.index.tolist()"
   ]
  },
  {
   "cell_type": "code",
   "execution_count": 27,
   "metadata": {},
   "outputs": [],
   "source": [
    "#subset train, valid, test sets\n",
    "\n",
    "X_train = X_train.iloc[:, RFE_col]\n",
    "X_valid = X_valid.iloc[:, RFE_col]\n",
    "X_test = X_test.iloc[:, RFE_col]"
   ]
  },
  {
   "cell_type": "markdown",
   "metadata": {},
   "source": [
    "We can now output the results and see which features RFE chose for us."
   ]
  },
  {
   "cell_type": "code",
   "execution_count": 28,
   "metadata": {
    "scrolled": true
   },
   "outputs": [
    {
     "data": {
      "text/html": [
       "<div>\n",
       "<style scoped>\n",
       "    .dataframe tbody tr th:only-of-type {\n",
       "        vertical-align: middle;\n",
       "    }\n",
       "\n",
       "    .dataframe tbody tr th {\n",
       "        vertical-align: top;\n",
       "    }\n",
       "\n",
       "    .dataframe thead th {\n",
       "        text-align: right;\n",
       "    }\n",
       "</style>\n",
       "<table border=\"1\" class=\"dataframe\">\n",
       "  <thead>\n",
       "    <tr style=\"text-align: right;\">\n",
       "      <th></th>\n",
       "      <th>376</th>\n",
       "      <th>166</th>\n",
       "      <th>131</th>\n",
       "      <th>143</th>\n",
       "      <th>366</th>\n",
       "      <th>584</th>\n",
       "      <th>219</th>\n",
       "      <th>377</th>\n",
       "      <th>121</th>\n",
       "      <th>239</th>\n",
       "      <th>...</th>\n",
       "      <th>171</th>\n",
       "      <th>551</th>\n",
       "      <th>58</th>\n",
       "      <th>19</th>\n",
       "      <th>311</th>\n",
       "      <th>560</th>\n",
       "      <th>587</th>\n",
       "      <th>227</th>\n",
       "      <th>561</th>\n",
       "      <th>447</th>\n",
       "    </tr>\n",
       "  </thead>\n",
       "  <tbody>\n",
       "    <tr>\n",
       "      <th>0</th>\n",
       "      <td>0.002389</td>\n",
       "      <td>-0.166872</td>\n",
       "      <td>0.704207</td>\n",
       "      <td>-0.823328</td>\n",
       "      <td>-0.342906</td>\n",
       "      <td>-0.089278</td>\n",
       "      <td>0.326860</td>\n",
       "      <td>0.055307</td>\n",
       "      <td>0.344013</td>\n",
       "      <td>-0.069668</td>\n",
       "      <td>...</td>\n",
       "      <td>-0.780339</td>\n",
       "      <td>-7.015448e-01</td>\n",
       "      <td>0.497086</td>\n",
       "      <td>-0.389515</td>\n",
       "      <td>0.134134</td>\n",
       "      <td>-0.094124</td>\n",
       "      <td>0.127941</td>\n",
       "      <td>-0.272353</td>\n",
       "      <td>-0.027531</td>\n",
       "      <td>-0.118287</td>\n",
       "    </tr>\n",
       "    <tr>\n",
       "      <th>1</th>\n",
       "      <td>1.123169</td>\n",
       "      <td>-0.608406</td>\n",
       "      <td>-1.153850</td>\n",
       "      <td>0.279585</td>\n",
       "      <td>-0.699495</td>\n",
       "      <td>-0.355759</td>\n",
       "      <td>-0.331345</td>\n",
       "      <td>0.504585</td>\n",
       "      <td>-0.674042</td>\n",
       "      <td>0.075227</td>\n",
       "      <td>...</td>\n",
       "      <td>-0.291039</td>\n",
       "      <td>-2.758800e-16</td>\n",
       "      <td>-1.085006</td>\n",
       "      <td>-0.351687</td>\n",
       "      <td>1.272236</td>\n",
       "      <td>0.048701</td>\n",
       "      <td>-0.256531</td>\n",
       "      <td>-0.631415</td>\n",
       "      <td>0.544045</td>\n",
       "      <td>0.990386</td>\n",
       "    </tr>\n",
       "    <tr>\n",
       "      <th>2</th>\n",
       "      <td>0.375982</td>\n",
       "      <td>1.246035</td>\n",
       "      <td>0.571488</td>\n",
       "      <td>-2.083800</td>\n",
       "      <td>-0.654921</td>\n",
       "      <td>0.056075</td>\n",
       "      <td>0.147350</td>\n",
       "      <td>-1.067890</td>\n",
       "      <td>-2.506541</td>\n",
       "      <td>-0.576801</td>\n",
       "      <td>...</td>\n",
       "      <td>-0.581357</td>\n",
       "      <td>-4.406296e-01</td>\n",
       "      <td>-0.684255</td>\n",
       "      <td>0.345927</td>\n",
       "      <td>1.090698</td>\n",
       "      <td>-0.522597</td>\n",
       "      <td>0.204835</td>\n",
       "      <td>0.187984</td>\n",
       "      <td>-0.408390</td>\n",
       "      <td>1.290749</td>\n",
       "    </tr>\n",
       "    <tr>\n",
       "      <th>3</th>\n",
       "      <td>0.749576</td>\n",
       "      <td>-0.608406</td>\n",
       "      <td>0.969643</td>\n",
       "      <td>-0.193092</td>\n",
       "      <td>-0.521200</td>\n",
       "      <td>-0.186181</td>\n",
       "      <td>0.685881</td>\n",
       "      <td>-0.843250</td>\n",
       "      <td>-0.266820</td>\n",
       "      <td>-0.721696</td>\n",
       "      <td>...</td>\n",
       "      <td>-0.224169</td>\n",
       "      <td>-2.758800e-16</td>\n",
       "      <td>-0.433351</td>\n",
       "      <td>-0.061821</td>\n",
       "      <td>1.520105</td>\n",
       "      <td>3.461252</td>\n",
       "      <td>1.665826</td>\n",
       "      <td>0.132743</td>\n",
       "      <td>1.158870</td>\n",
       "      <td>1.381205</td>\n",
       "    </tr>\n",
       "    <tr>\n",
       "      <th>4</th>\n",
       "      <td>0.375982</td>\n",
       "      <td>0.098048</td>\n",
       "      <td>-0.578737</td>\n",
       "      <td>-0.980887</td>\n",
       "      <td>-0.744068</td>\n",
       "      <td>-0.040827</td>\n",
       "      <td>1.463760</td>\n",
       "      <td>0.504585</td>\n",
       "      <td>-0.572237</td>\n",
       "      <td>-0.214563</td>\n",
       "      <td>...</td>\n",
       "      <td>-0.085534</td>\n",
       "      <td>1.930214e-01</td>\n",
       "      <td>1.494896</td>\n",
       "      <td>0.325254</td>\n",
       "      <td>0.560050</td>\n",
       "      <td>-0.050324</td>\n",
       "      <td>-0.377364</td>\n",
       "      <td>-0.272353</td>\n",
       "      <td>0.434010</td>\n",
       "      <td>0.855861</td>\n",
       "    </tr>\n",
       "  </tbody>\n",
       "</table>\n",
       "<p>5 rows × 122 columns</p>\n",
       "</div>"
      ],
      "text/plain": [
       "        376       166       131       143       366       584       219  \\\n",
       "0  0.002389 -0.166872  0.704207 -0.823328 -0.342906 -0.089278  0.326860   \n",
       "1  1.123169 -0.608406 -1.153850  0.279585 -0.699495 -0.355759 -0.331345   \n",
       "2  0.375982  1.246035  0.571488 -2.083800 -0.654921  0.056075  0.147350   \n",
       "3  0.749576 -0.608406  0.969643 -0.193092 -0.521200 -0.186181  0.685881   \n",
       "4  0.375982  0.098048 -0.578737 -0.980887 -0.744068 -0.040827  1.463760   \n",
       "\n",
       "        377       121       239  ...       171           551       58   \\\n",
       "0  0.055307  0.344013 -0.069668  ... -0.780339 -7.015448e-01  0.497086   \n",
       "1  0.504585 -0.674042  0.075227  ... -0.291039 -2.758800e-16 -1.085006   \n",
       "2 -1.067890 -2.506541 -0.576801  ... -0.581357 -4.406296e-01 -0.684255   \n",
       "3 -0.843250 -0.266820 -0.721696  ... -0.224169 -2.758800e-16 -0.433351   \n",
       "4  0.504585 -0.572237 -0.214563  ... -0.085534  1.930214e-01  1.494896   \n",
       "\n",
       "        19        311       560       587       227       561       447  \n",
       "0 -0.389515  0.134134 -0.094124  0.127941 -0.272353 -0.027531 -0.118287  \n",
       "1 -0.351687  1.272236  0.048701 -0.256531 -0.631415  0.544045  0.990386  \n",
       "2  0.345927  1.090698 -0.522597  0.204835  0.187984 -0.408390  1.290749  \n",
       "3 -0.061821  1.520105  3.461252  1.665826  0.132743  1.158870  1.381205  \n",
       "4  0.325254  0.560050 -0.050324 -0.377364 -0.272353  0.434010  0.855861  \n",
       "\n",
       "[5 rows x 122 columns]"
      ]
     },
     "execution_count": 28,
     "metadata": {},
     "output_type": "execute_result"
    }
   ],
   "source": [
    "#display new data frame\n",
    "X_train.head()"
   ]
  },
  {
   "cell_type": "markdown",
   "metadata": {},
   "source": [
    "### Initial Models\n",
    "\n",
    "Now that we have balanced train and validation sets that also have a more manageable set of features, we are ready to begin modeling. We will begin by building a decision tree classifier before moving to random forest and SVM classifiers. The decision tree classifier will give us more intuition about the decision making within the model, where the most important splits are, and more information about the non linear relationships within our data set."
   ]
  },
  {
   "cell_type": "markdown",
   "metadata": {},
   "source": [
    "#### Decision Tree\n",
    "\n",
    "We trained our decision tree classifier using a greedy approach to parameter tuning. The three parameters we tuned in the model are defined here:\n",
    "- min_samples_leaf - Specifies the minimum # of samples required to be at a leaf node\n",
    "- max_leaf_nodes - The maximum number of leaf nodes in the tree. More leaves generally lead to more overfitting\n",
    "- min_samples_split - Specifies the minimum # of samples required to split an internal node\n",
    "\n",
    "We incremented the max leaf node parameter by 1 (starting with 3) until performance dropped off before using the same approach on the minimum sample leaf and split parameters. This left us with parameters in the code below."
   ]
  },
  {
   "cell_type": "code",
   "execution_count": 29,
   "metadata": {},
   "outputs": [
    {
     "name": "stdout",
     "output_type": "stream",
     "text": [
      "Decision Tree accuracy on training set: 76.0%\n",
      "Decision Tree accuracy on validation set: 74.8%\n"
     ]
    }
   ],
   "source": [
    "#train decision tree\n",
    "#predict on train and val\n",
    "#print accuracy on both\n",
    "\n",
    "from sklearn.tree import DecisionTreeClassifier\n",
    "from sklearn.metrics import accuracy_score\n",
    "\n",
    "dtree = DecisionTreeClassifier(min_samples_leaf = 2, max_leaf_nodes = 6, min_samples_split = 2).fit(X_train, y_train)\n",
    "\n",
    "y_dtree_train = dtree.predict(X_train) \n",
    "y_dtree_valid = dtree.predict(X_valid) \n",
    "\n",
    "print(\"Decision Tree accuracy on training set: {:.1f}%\".format(accuracy_score(y_train, y_dtree_train)*100))\n",
    "print(\"Decision Tree accuracy on validation set: {:.1f}%\".format(accuracy_score(y_valid, y_dtree_valid)*100))"
   ]
  },
  {
   "cell_type": "markdown",
   "metadata": {},
   "source": [
    "Our accuracy is fairly close between train and validation sets, which is a good sign. To understand what is happening under the hood, we must visualize our decision tree and then look at the performance metrics we mentioned above to get a better sense of how well the model is classifying positive cases."
   ]
  },
  {
   "cell_type": "code",
   "execution_count": 30,
   "metadata": {},
   "outputs": [
    {
     "data": {
      "image/png": "[encoded data removed]",
      "text/plain": [
       "<Figure size 1440x1080 with 1 Axes>"
      ]
     },
     "metadata": {
      "needs_background": "light"
     },
     "output_type": "display_data"
    }
   ],
   "source": [
    "#plot decision tree\n",
    "\n",
    "from sklearn import tree\n",
    "import matplotlib.pyplot as plt\n",
    "\n",
    "fig = plt.figure(figsize=(20, 15)) \n",
    "tree.plot_tree(dtree,\n",
    "               feature_names=X.columns,  \n",
    "               class_names=['1', '-1'],\n",
    "               filled=True);"
   ]
  },
  {
   "cell_type": "markdown",
   "metadata": {},
   "source": [
    "To understand the decision tree, we begin with the root node. This classifier uses the gini coefficient to determine each split. Notice how at the root node, we can see the highest gini coefficient of any node in the tree. This means that the feature identified in the root node is the most important according to our model. From this node, the model divides the classes evenly. The left split becomes a leaf/terminal node, where no further splits are made indicating that the model has made a final decision on these particular observations. The right split sends the rest of the observations down a deep path to figuring out which class they stand in.\n",
    "\n",
    "With this understanding, we can now move onto getting a precision and recall score from our model. The purpose of both metrics is to better understand how our model is classifying the positive class."
   ]
  },
  {
   "cell_type": "code",
   "execution_count": 31,
   "metadata": {},
   "outputs": [
    {
     "name": "stdout",
     "output_type": "stream",
     "text": [
      "Precision on training data: 77.4%.\n",
      "Recall on training data: 73.4%.\n",
      "\n",
      "Precision on validation data: 75.2%.\n",
      "Recall on validation data: 74.1%.\n"
     ]
    }
   ],
   "source": [
    "#print precision/recall for train-val\n",
    "\n",
    "from sklearn.metrics import precision_score\n",
    "from sklearn.metrics import recall_score\n",
    "\n",
    "precision_train = precision_score(y_train, y_dtree_train, pos_label = 1) * 100\n",
    "precision_valid = precision_score(y_valid, y_dtree_valid, pos_label = 1) * 100\n",
    "recall_train = recall_score(y_train, y_dtree_train, pos_label = 1) * 100\n",
    "recall_valid = recall_score(y_valid, y_dtree_valid, pos_label = 1) * 100\n",
    "\n",
    "print(\"Precision on training data: {:.1f}%.\".format(precision_train))\n",
    "print(\"Recall on training data: {:.1f}%.\\n\".format(recall_train))\n",
    "print(\"Precision on validation data: {:.1f}%.\".format(precision_valid))\n",
    "print(\"Recall on validation data: {:.1f}%.\".format(recall_valid))"
   ]
  },
  {
   "cell_type": "code",
   "execution_count": 32,
   "metadata": {},
   "outputs": [
    {
     "data": {
      "image/png": "[encoded data removed]",
      "text/plain": [
       "<Figure size 432x288 with 2 Axes>"
      ]
     },
     "metadata": {
      "needs_background": "light"
     },
     "output_type": "display_data"
    }
   ],
   "source": [
    "from sklearn.metrics import plot_confusion_matrix\n",
    "\n",
    "plot_confusion_matrix(dtree, X_valid, y_valid);"
   ]
  },
  {
   "cell_type": "markdown",
   "metadata": {},
   "source": [
    "Let's now check the AUC of the model on both data sets. AUC (area under the ROC curve) measures the two dimensional area under the ROC curve. This curve has the axes, False Positivity Rate (FPR) and True Positivity Rate (TPR). One way of thinking about AUC is as the probability that the model ranks a random positive example more highly than a negative example. 100% is the highest possible AUC score and indicates that every classification made by the model was correct."
   ]
  },
  {
   "cell_type": "code",
   "execution_count": 33,
   "metadata": {},
   "outputs": [
    {
     "name": "stdout",
     "output_type": "stream",
     "text": [
      "Training AUC: 76.0%.\n",
      "Validation AUC: 74.8%.\n"
     ]
    }
   ],
   "source": [
    "from sklearn.metrics import roc_auc_score\n",
    "\n",
    "print(\"Training AUC: {:.1f}%.\".format(roc_auc_score(y_train, y_dtree_train)*100))\n",
    "print(\"Validation AUC: {:.1f}%.\".format(roc_auc_score(y_valid, y_dtree_valid)*100))"
   ]
  },
  {
   "cell_type": "markdown",
   "metadata": {},
   "source": [
    "The results above tell us that the model is classifying positive cases quite well on both the train and validation sets. Notice that the precision and recall scores are very close to one another, which is a good sign because it tells us that we are balancing the number of false negatives and positives almost evenly. This is also confirmed by the confusion matrix, which shows 36 false positives and 38 false negatives out of 294 total observations."
   ]
  },
  {
   "cell_type": "markdown",
   "metadata": {},
   "source": [
    "Next, we can implement a random forest classifier, which can be thought of as a more robust version of a decision tree. The random forest model uses many weak decision trees to classify the target instead of relying on only one like the decision tree. This model does however, require more tuning. We will tune the model using a grid search, which can find us the optimal parameters we should use in our model. Note that the parameters are very similar to the decision tree we tuned above. The main difference is that we need to specify the number of estimators/learners to use in the model."
   ]
  },
  {
   "cell_type": "markdown",
   "metadata": {},
   "source": [
    "#### Random Forest"
   ]
  },
  {
   "cell_type": "code",
   "execution_count": 34,
   "metadata": {
    "scrolled": true
   },
   "outputs": [],
   "source": [
    "#set parameter grid\n",
    "#initialize rf regressor\n",
    "#perform grid search - 2 cvs\n",
    "#print best parameters\n",
    "\n",
    "from sklearn.ensemble import RandomForestRegressor\n",
    "from sklearn.model_selection import GridSearchCV\n",
    "\n",
    "param_grid = {\n",
    "    'bootstrap': [True],\n",
    "    'max_depth': [10, None],\n",
    "    'max_features': [8, 10],\n",
    "    'n_estimators': [800, 1000]\n",
    "}\n",
    "\n",
    "rf = RandomForestRegressor()\n",
    "grid_search = GridSearchCV(estimator = rf, param_grid = param_grid, \n",
    "                          cv = 2, n_jobs = -1, verbose = 2)\n",
    "\n",
    "grid_search.fit(X_train, y_train)\n",
    "grid_search.best_params_"
   ]
  },
  {
   "cell_type": "markdown",
   "metadata": {},
   "source": [
    "We can now use the parameters specified by the grid search to train our random forest classifier."
   ]
  },
  {
   "cell_type": "code",
   "execution_count": 35,
   "metadata": {},
   "outputs": [
    {
     "name": "stderr",
     "output_type": "stream",
     "text": [
      "[Parallel(n_jobs=1)]: Using backend SequentialBackend with 1 concurrent workers.\n",
      "[Parallel(n_jobs=1)]: Done 1000 out of 1000 | elapsed:   17.8s finished\n"
     ]
    }
   ],
   "source": [
    "#use optimal parameters from grid search\n",
    "#run rf classifier\n",
    "\n",
    "from sklearn.ensemble import RandomForestClassifier\n",
    "\n",
    "hypers = {\"n_estimators\": 1000, \"max_features\": 8, \"max_depth\": 10, \n",
    "          \"min_samples_leaf\": 2, \"min_samples_split\": 2}\n",
    "clf_rf = RandomForestClassifier(class_weight = 'balanced',\n",
    "                                verbose = True, **hypers).fit(X_train, y_train)"
   ]
  },
  {
   "cell_type": "code",
   "execution_count": 36,
   "metadata": {},
   "outputs": [
    {
     "name": "stderr",
     "output_type": "stream",
     "text": [
      "[Parallel(n_jobs=1)]: Using backend SequentialBackend with 1 concurrent workers.\n",
      "[Parallel(n_jobs=1)]: Done 1000 out of 1000 | elapsed:    0.6s finished\n",
      "[Parallel(n_jobs=1)]: Using backend SequentialBackend with 1 concurrent workers.\n"
     ]
    },
    {
     "name": "stdout",
     "output_type": "stream",
     "text": [
      "Train set random forest accuracy: 99.70%\n",
      "Validation set random forest accuracy: 90.48%\n"
     ]
    },
    {
     "name": "stderr",
     "output_type": "stream",
     "text": [
      "[Parallel(n_jobs=1)]: Done 1000 out of 1000 | elapsed:    0.2s finished\n"
     ]
    }
   ],
   "source": [
    "#predict on train-val\n",
    "#print accuracy\n",
    "\n",
    "y_hat_train_rf = clf_rf.predict(X_train)\n",
    "y_hat_valid_rf = clf_rf.predict(X_valid)\n",
    "\n",
    "acc_train_rf = accuracy_score(y_train, y_hat_train_rf)\n",
    "acc_val_rf = accuracy_score(y_valid, y_hat_valid_rf)\n",
    "\n",
    "print('Train set random forest accuracy: {:.2f}%'.format(acc_train_rf * 100))\n",
    "print('Validation set random forest accuracy: {:.2f}%'.format(acc_val_rf * 100))"
   ]
  },
  {
   "cell_type": "markdown",
   "metadata": {},
   "source": [
    "We got much better accuracy on both the training and validation sets, as expected. Let's check our precision, recall, and output the AUC of this model."
   ]
  },
  {
   "cell_type": "code",
   "execution_count": 37,
   "metadata": {},
   "outputs": [
    {
     "name": "stdout",
     "output_type": "stream",
     "text": [
      "Precision on training data: 99.4%\n",
      "Recall on training data: 100.0% \n",
      "\n",
      "Precision on validation data: 96.9%\n",
      "Recall on validation data: 83.7%\n"
     ]
    }
   ],
   "source": [
    "#print precision/recall\n",
    "\n",
    "precision_train_rf = precision_score(y_train, y_hat_train_rf, pos_label = 1) * 100\n",
    "precision_valid_rf = precision_score(y_valid, y_hat_valid_rf, pos_label = 1) * 100\n",
    "recall_train_rf = recall_score(y_train, y_hat_train_rf, pos_label = 1) * 100\n",
    "recall_valid_rf = recall_score(y_valid, y_hat_valid_rf, pos_label = 1) * 100\n",
    "\n",
    "print(\"Precision on training data: {:.1f}%\".format(precision_train_rf))\n",
    "print(\"Recall on training data: {:.1f}% \\n\".format(recall_train_rf))\n",
    "print(\"Precision on validation data: {:.1f}%\".format(precision_valid_rf))\n",
    "print(\"Recall on validation data: {:.1f}%\".format(recall_valid_rf))"
   ]
  },
  {
   "cell_type": "code",
   "execution_count": 38,
   "metadata": {},
   "outputs": [
    {
     "name": "stderr",
     "output_type": "stream",
     "text": [
      "[Parallel(n_jobs=1)]: Using backend SequentialBackend with 1 concurrent workers.\n",
      "[Parallel(n_jobs=1)]: Done 1000 out of 1000 | elapsed:    0.2s finished\n"
     ]
    },
    {
     "data": {
      "image/png": "[encoded data removed]",
      "text/plain": [
       "<Figure size 432x288 with 2 Axes>"
      ]
     },
     "metadata": {
      "needs_background": "light"
     },
     "output_type": "display_data"
    }
   ],
   "source": [
    "plot_confusion_matrix(clf_rf, X_valid, y_valid);"
   ]
  },
  {
   "cell_type": "code",
   "execution_count": 39,
   "metadata": {},
   "outputs": [
    {
     "name": "stdout",
     "output_type": "stream",
     "text": [
      "Training AUC: 99.7%.\n",
      "Validation AUC: 90.5%.\n"
     ]
    }
   ],
   "source": [
    "print(\"Training AUC: {:.1f}%.\".format(roc_auc_score(y_train, y_hat_train_rf)*100))\n",
    "print(\"Validation AUC: {:.1f}%.\".format(roc_auc_score(y_valid, y_hat_valid_rf)*100))"
   ]
  },
  {
   "cell_type": "markdown",
   "metadata": {},
   "source": [
    "While we are seeing significant improvement in each of our performance metrics, we are beginning to see a larger drop off from train to validation sets. This model has very good precision, but notice how the recall score lags far behind the training set. This indicates that there is some overfitting happening.\n",
    "\n",
    "We can see what features the model is highlighting by looking at a feature importance table. We can use this to compare it with our original decision tree to see how it might differ."
   ]
  },
  {
   "cell_type": "code",
   "execution_count": 40,
   "metadata": {
    "scrolled": true
   },
   "outputs": [
    {
     "data": {
      "text/html": [
       "<div>\n",
       "<style scoped>\n",
       "    .dataframe tbody tr th:only-of-type {\n",
       "        vertical-align: middle;\n",
       "    }\n",
       "\n",
       "    .dataframe tbody tr th {\n",
       "        vertical-align: top;\n",
       "    }\n",
       "\n",
       "    .dataframe thead th {\n",
       "        text-align: right;\n",
       "    }\n",
       "</style>\n",
       "<table border=\"1\" class=\"dataframe\">\n",
       "  <thead>\n",
       "    <tr style=\"text-align: right;\">\n",
       "      <th></th>\n",
       "      <th>feature</th>\n",
       "      <th>importance</th>\n",
       "    </tr>\n",
       "  </thead>\n",
       "  <tbody>\n",
       "    <tr>\n",
       "      <th>73</th>\n",
       "      <td>33</td>\n",
       "      <td>0.027652</td>\n",
       "    </tr>\n",
       "    <tr>\n",
       "      <th>8</th>\n",
       "      <td>121</td>\n",
       "      <td>0.026457</td>\n",
       "    </tr>\n",
       "    <tr>\n",
       "      <th>7</th>\n",
       "      <td>377</td>\n",
       "      <td>0.026402</td>\n",
       "    </tr>\n",
       "    <tr>\n",
       "      <th>46</th>\n",
       "      <td>130</td>\n",
       "      <td>0.025406</td>\n",
       "    </tr>\n",
       "    <tr>\n",
       "      <th>120</th>\n",
       "      <td>561</td>\n",
       "      <td>0.024900</td>\n",
       "    </tr>\n",
       "  </tbody>\n",
       "</table>\n",
       "</div>"
      ],
      "text/plain": [
       "    feature  importance\n",
       "73       33    0.027652\n",
       "8       121    0.026457\n",
       "7       377    0.026402\n",
       "46      130    0.025406\n",
       "120     561    0.024900"
      ]
     },
     "execution_count": 40,
     "metadata": {},
     "output_type": "execute_result"
    }
   ],
   "source": [
    "#display top 5 features from rf\n",
    "\n",
    "var_imp = pd.DataFrame({\"feature\": X_train.columns, \"importance\": clf_rf.feature_importances_})\n",
    "var_imp.sort_values(by = 'importance', ascending = False).head(5)"
   ]
  },
  {
   "cell_type": "markdown",
   "metadata": {},
   "source": [
    "Interestingly, both models are identifying mostly different features as important. Given the difference in prediction accuracy between the two, this is not too surprising."
   ]
  },
  {
   "cell_type": "markdown",
   "metadata": {},
   "source": [
    "#### Support Vector Machine\n",
    "\n",
    "Next, we can try an SVM before finalizing a model. SVMs are known to perform quite well on sparse data like what we have. To classify observations into two groups, SVMs use a separating line (called a hyperplane), where the distance to that line and the nearest point is called the margin. SVM looks the maximize the margin between the point and the separating line. If the data cannot be cleanly separated, the SVM can expand the number of dimensions (otherwise known as the kernel trick) or increase the cost of misclassified examples (C parameter in sklearn).\n",
    "\n",
    "We have tuned our SVM model once again, using a greedy approach. Defined below are the parameters we iterated through before hitting a plateau on our performance metrics.\n",
    "- C - Regularization parameter\n",
    "- gamma - Kernel coefficient\n",
    "- kernel - Specifies the type of kernel to map points into higher dimensional space"
   ]
  },
  {
   "cell_type": "code",
   "execution_count": 41,
   "metadata": {},
   "outputs": [
    {
     "name": "stdout",
     "output_type": "stream",
     "text": [
      "Train set svm accuracy: 99.79%\n",
      "Validation set svm accuracy: 86.39%\n"
     ]
    }
   ],
   "source": [
    "#initialize svm\n",
    "#predict on train, validation\n",
    "#print accuracy\n",
    "\n",
    "from sklearn.svm import SVC\n",
    "\n",
    "svmc = SVC(C = 1.0, gamma = 'scale', kernel = 'rbf')\n",
    "svmc.fit(X_train, y_train)\n",
    "\n",
    "y_hat_train_svm = svmc.predict(X_train)\n",
    "y_hat_valid_svm = svmc.predict(X_valid)\n",
    "\n",
    "acc_train_svm = accuracy_score(y_train, y_hat_train_svm)\n",
    "acc_val_svm = accuracy_score(y_valid, y_hat_valid_svm)\n",
    "\n",
    "print('Train set svm accuracy: {:.2f}%'.format(acc_train_svm * 100))\n",
    "print('Validation set svm accuracy: {:.2f}%'.format(acc_val_svm * 100))"
   ]
  },
  {
   "cell_type": "code",
   "execution_count": 42,
   "metadata": {},
   "outputs": [
    {
     "name": "stdout",
     "output_type": "stream",
     "text": [
      "Precision on training data: 99.6%\n",
      "Recall on training data: 100.0% \n",
      "\n",
      "Precision on validation data: 99.1%\n",
      "Recall on validation data: 73.5%\n"
     ]
    }
   ],
   "source": [
    "precision_train_svm = precision_score(y_train, y_hat_train_svm, pos_label = 1) * 100\n",
    "precision_valid_svm = precision_score(y_valid, y_hat_valid_svm, pos_label = 1) * 100\n",
    "recall_train_svm = recall_score(y_train, y_hat_train_svm, pos_label = 1) * 100\n",
    "recall_valid_svm = recall_score(y_valid, y_hat_valid_svm, pos_label = 1) * 100\n",
    "\n",
    "print(\"Precision on training data: {:.1f}%\".format(precision_train_svm))\n",
    "print(\"Recall on training data: {:.1f}% \\n\".format(recall_train_svm))\n",
    "print(\"Precision on validation data: {:.1f}%\".format(precision_valid_svm))\n",
    "print(\"Recall on validation data: {:.1f}%\".format(recall_valid_svm))"
   ]
  },
  {
   "cell_type": "code",
   "execution_count": 43,
   "metadata": {},
   "outputs": [
    {
     "data": {
      "image/png": "[encoded data removed]",
      "text/plain": [
       "<Figure size 432x288 with 2 Axes>"
      ]
     },
     "metadata": {
      "needs_background": "light"
     },
     "output_type": "display_data"
    }
   ],
   "source": [
    "plot_confusion_matrix(svmc, X_valid, y_valid);"
   ]
  },
  {
   "cell_type": "code",
   "execution_count": 44,
   "metadata": {},
   "outputs": [
    {
     "name": "stdout",
     "output_type": "stream",
     "text": [
      "Training AUC: 99.8%.\n",
      "Validation AUC: 86.4%.\n"
     ]
    }
   ],
   "source": [
    "print(\"Training AUC: {:.1f}%.\".format(roc_auc_score(y_train, y_hat_train_svm)*100))\n",
    "print(\"Validation AUC: {:.1f}%.\".format(roc_auc_score(y_valid, y_hat_valid_svm)*100))"
   ]
  },
  {
   "cell_type": "markdown",
   "metadata": {},
   "source": [
    "The SVM did not perform quite as well as the random forest. Once again, the model's recall lagged significantly behind the train set recall. However, the SVM proved to be the most precise of all of benchmark models. Notice that the model only predicted 1 false positive. Despite the precision, the SVM was unable to outperform our random forest model due to its recall score. \n",
    "\n",
    "From our benchmark models, the random forest is currently the one to beat with an AUC above 90% on the validation set. As we move onto our final models, it will be important to compare the best of those models with our random forest. If we cannot achieve materially higher performance with one of our neural network models, it may not be worth the additional complexity these models tend to introduce."
   ]
  },
  {
   "cell_type": "markdown",
   "metadata": {},
   "source": [
    "### Final Models"
   ]
  },
  {
   "cell_type": "markdown",
   "metadata": {},
   "source": [
    "#### Fully Connected MLP Classifier\n",
    "\n",
    "We'll begin by using a simple MLP (Multi-layer Perceptron) Classifier in sklearn. To arrive at the parameters below, we iterated on activation functions, depth of architecture, epochs, and different solvers optimizing for the log-loss function (cross entropy loss in our case)."
   ]
  },
  {
   "cell_type": "code",
   "execution_count": 84,
   "metadata": {
    "scrolled": true
   },
   "outputs": [
    {
     "name": "stdout",
     "output_type": "stream",
     "text": [
      "Iteration 1, loss = 0.63346547\n",
      "Iteration 2, loss = 0.51227318\n",
      "Iteration 3, loss = 0.42012143\n",
      "Iteration 4, loss = 0.34332321\n",
      "Iteration 5, loss = 0.27896595\n",
      "Iteration 6, loss = 0.22734190\n",
      "Iteration 7, loss = 0.18297411\n",
      "Iteration 8, loss = 0.14949125\n",
      "Iteration 9, loss = 0.11999625\n",
      "Iteration 10, loss = 0.09624713\n",
      "Iteration 11, loss = 0.07923162\n",
      "Iteration 12, loss = 0.06296531\n",
      "Iteration 13, loss = 0.05118092\n",
      "Iteration 14, loss = 0.04242296\n",
      "Iteration 15, loss = 0.03490622\n",
      "Iteration 16, loss = 0.02877796\n",
      "Iteration 17, loss = 0.02319799\n",
      "Iteration 18, loss = 0.01963639\n",
      "Iteration 19, loss = 0.01674313\n",
      "Iteration 20, loss = 0.01405891\n",
      "Iteration 21, loss = 0.01211657\n",
      "Iteration 22, loss = 0.01105427\n",
      "Iteration 23, loss = 0.00918911\n",
      "Iteration 24, loss = 0.00789604\n",
      "Iteration 25, loss = 0.00692663\n",
      "Iteration 26, loss = 0.00611812\n",
      "Iteration 27, loss = 0.00549585\n",
      "Iteration 28, loss = 0.00491872\n",
      "Iteration 29, loss = 0.00443969\n",
      "Iteration 30, loss = 0.00403563\n",
      "Iteration 31, loss = 0.00367194\n",
      "Iteration 32, loss = 0.00335701\n",
      "Iteration 33, loss = 0.00307191\n",
      "Iteration 34, loss = 0.00282211\n",
      "Iteration 35, loss = 0.00260377\n",
      "Iteration 36, loss = 0.00240895\n",
      "Iteration 37, loss = 0.00223191\n",
      "Iteration 38, loss = 0.00212052\n",
      "Iteration 39, loss = 0.00194237\n",
      "Iteration 40, loss = 0.00180195\n",
      "Iteration 41, loss = 0.00169319\n",
      "Iteration 42, loss = 0.00157049\n",
      "Iteration 43, loss = 0.00147904\n",
      "Iteration 44, loss = 0.00138685\n",
      "Iteration 45, loss = 0.00130506\n",
      "Iteration 46, loss = 0.00123238\n",
      "Iteration 47, loss = 0.00116127\n",
      "Iteration 48, loss = 0.00109888\n",
      "Iteration 49, loss = 0.00104138\n",
      "Iteration 50, loss = 0.00099202\n",
      "Iteration 51, loss = 0.00094226\n",
      "Iteration 52, loss = 0.00089668\n",
      "Iteration 53, loss = 0.00085526\n",
      "Training loss did not improve more than tol=0.000100 for 10 consecutive epochs. Stopping.\n"
     ]
    },
    {
     "data": {
      "text/plain": [
       "MLPClassifier(batch_size=80, hidden_layer_sizes=(35, 15), max_iter=100,\n",
       "              random_state=1, verbose=10)"
      ]
     },
     "execution_count": 84,
     "metadata": {},
     "output_type": "execute_result"
    }
   ],
   "source": [
    "#use greedy approach to parameter setting\n",
    "#default loss is cross entropy\n",
    "\n",
    "from sklearn.neural_network import MLPClassifier\n",
    "\n",
    "mlp = MLPClassifier(hidden_layer_sizes=(35, 15), max_iter=100, alpha=0.0001,\n",
    "                    solver='adam', activation='relu', batch_size= 80, verbose=10, random_state=1,\n",
    "                    n_iter_no_change=10, tol=0.0001)\n",
    "\n",
    "mlp.fit(X_train, y_train)"
   ]
  },
  {
   "cell_type": "code",
   "execution_count": 85,
   "metadata": {},
   "outputs": [
    {
     "data": {
      "text/plain": [
       "Text(0.5, 1.0, 'Loss Curve')"
      ]
     },
     "execution_count": 85,
     "metadata": {},
     "output_type": "execute_result"
    },
    {
     "data": {
      "image/png": "[encoded data removed]",
      "text/plain": [
       "<Figure size 432x288 with 1 Axes>"
      ]
     },
     "metadata": {
      "needs_background": "light"
     },
     "output_type": "display_data"
    }
   ],
   "source": [
    "plt.plot(mlp.loss_curve_)\n",
    "plt.grid()\n",
    "plt.xlabel('Iterations')\n",
    "plt.ylabel('Loss (Cross Entropy)')\n",
    "plt.title('Loss Curve')"
   ]
  },
  {
   "cell_type": "markdown",
   "metadata": {},
   "source": [
    "The loss curve allows us to see where performance tails off. After the 30th iteration or so, cross entropy loss begins to flat line. We continued for 23 iterations after that point because of the class imbalance in the data set. Every positive missclassification is more costly than the negative cases. Beyond the 53rd iteration, we saw no improvement in the validation AUC.\n",
    "\n",
    "Our final parameters in our MLP classifier are as follows:\n",
    "\n",
    "- Layer 1: 35\n",
    "- Layer 2: 15\n",
    "- 53 Iterations/Epochs\n",
    "- 80 Batches\n",
    "- Activation Function: Relu\n",
    "- Solver: Adam\n",
    "\n",
    "The parameters used in this classifier may provide a starting point in the next model that we build using TensorFlow, so we will keep them in mind. Let's look at our performance metrics."
   ]
  },
  {
   "cell_type": "code",
   "execution_count": 86,
   "metadata": {},
   "outputs": [
    {
     "name": "stdout",
     "output_type": "stream",
     "text": [
      "Training set score: 1.0000\n",
      "Validation set score: 0.7925\n"
     ]
    }
   ],
   "source": [
    "print(\"Training set score: {:.4f}\".format(mlp.score(X_train, y_train)))\n",
    "print(\"Validation set score: {:.4f}\".format(mlp.score(X_valid, y_valid)))"
   ]
  },
  {
   "cell_type": "code",
   "execution_count": 87,
   "metadata": {},
   "outputs": [
    {
     "data": {
      "image/png": "[encoded data removed]",
      "text/plain": [
       "<Figure size 432x288 with 2 Axes>"
      ]
     },
     "metadata": {
      "needs_background": "light"
     },
     "output_type": "display_data"
    }
   ],
   "source": [
    "from sklearn.metrics import plot_confusion_matrix\n",
    "\n",
    "plot_confusion_matrix(mlp, X_valid, y_valid);"
   ]
  },
  {
   "cell_type": "code",
   "execution_count": 88,
   "metadata": {},
   "outputs": [],
   "source": [
    "y_hat_train_mlp = mlp.predict(X_train)\n",
    "y_hat_valid_mlp = mlp.predict(X_valid)"
   ]
  },
  {
   "cell_type": "code",
   "execution_count": 89,
   "metadata": {},
   "outputs": [
    {
     "name": "stdout",
     "output_type": "stream",
     "text": [
      "Precision on training data: 100.0%\n",
      "Recall on training data: 100.0% \n",
      "\n",
      "Precision on validation data: 93.9%\n",
      "Recall on validation data: 62.6%\n"
     ]
    }
   ],
   "source": [
    "precision_train_mlp = precision_score(y_train, y_hat_train_mlp, pos_label = 1) * 100\n",
    "precision_valid_mlp = precision_score(y_valid, y_hat_valid_mlp, pos_label = 1) * 100\n",
    "recall_train_mlp = recall_score(y_train, y_hat_train_mlp, pos_label = 1) * 100\n",
    "recall_valid_mlp = recall_score(y_valid, y_hat_valid_mlp, pos_label = 1) * 100\n",
    "\n",
    "print(\"Precision on training data: {:.1f}%\".format(precision_train_mlp))\n",
    "print(\"Recall on training data: {:.1f}% \\n\".format(recall_train_mlp))\n",
    "print(\"Precision on validation data: {:.1f}%\".format(precision_valid_mlp))\n",
    "print(\"Recall on validation data: {:.1f}%\".format(recall_valid_mlp))"
   ]
  },
  {
   "cell_type": "code",
   "execution_count": 90,
   "metadata": {},
   "outputs": [
    {
     "name": "stdout",
     "output_type": "stream",
     "text": [
      "Training AUC: 100.0%.\n",
      "Validation AUC: 79.3%.\n"
     ]
    }
   ],
   "source": [
    "print(\"Training AUC: {:.1f}%.\".format(roc_auc_score(y_train, y_hat_train_mlp)*100))\n",
    "print(\"Validation AUC: {:.1f}%.\".format(roc_auc_score(y_valid, y_hat_valid_mlp)*100))"
   ]
  },
  {
   "cell_type": "markdown",
   "metadata": {},
   "source": [
    "Our MLP classifier could not outperform the random forest or SVM classifier from our initial models. It also struggled to predict many of the positive cases (55 false negatives), repeating a theme from our SVM. Precision was high once again with only 6 false positives.\n",
    "\n",
    "Using some of the knowledge we gained from iterating on the MLP classifier's parameters, let's see if we can build a more dense network in TensorFlow while including some regularization."
   ]
  },
  {
   "cell_type": "markdown",
   "metadata": {},
   "source": [
    "#### Tensorflow Dense Network with Dropout"
   ]
  },
  {
   "cell_type": "markdown",
   "metadata": {},
   "source": [
    "Building a neural network in TensorFlow allows us greater control over the architecture of the model. In this section, we will build a neural network with a densely connected hidden layer and a dropout layer to reduce overfitting. The output will be a sigmoid layer which gives us the probability of an observation being defective, which we can classify as 1 or 0 using a 50% probability threshold (if probability of an observation > 50%, classify as 1). \n",
    "\n",
    "As a first step, TensorFlow will require us to convert our data frames into numpy arrays. Let's do that and then we can tune our hyperparameters."
   ]
  },
  {
   "cell_type": "code",
   "execution_count": 52,
   "metadata": {},
   "outputs": [],
   "source": [
    "#convert datasets to numpy arrays\n",
    "\n",
    "X_train = np.array(X_train)\n",
    "X_valid = np.array(X_valid)\n",
    "X_test = np.array(X_test)"
   ]
  },
  {
   "cell_type": "code",
   "execution_count": 53,
   "metadata": {},
   "outputs": [],
   "source": [
    "y_train = np.array(y_train)\n",
    "y_valid = np.array(y_valid)\n",
    "y_test = np.array(y_test)"
   ]
  },
  {
   "cell_type": "code",
   "execution_count": 54,
   "metadata": {},
   "outputs": [
    {
     "name": "stdout",
     "output_type": "stream",
     "text": [
      "Train Set Shape: (2338, 122)\n",
      "Validation Set Shape: (294, 122)\n",
      "Test Set Shape: (157, 122)\n",
      "Train Labels Shape: (2338,)\n",
      "Validation Labels Shape: (294,)\n",
      "Test Labels Shape: (157,)\n"
     ]
    }
   ],
   "source": [
    "print('Train Set Shape:', X_train.shape)\n",
    "print('Validation Set Shape:', X_valid.shape)\n",
    "print('Test Set Shape:', X_test.shape)\n",
    "\n",
    "print('Train Labels Shape:', y_train.shape)\n",
    "print('Validation Labels Shape:', y_valid.shape)\n",
    "print('Test Labels Shape:', y_test.shape)"
   ]
  },
  {
   "cell_type": "markdown",
   "metadata": {},
   "source": [
    "Our TensorFlow model parameters have been tuned according to performance on the validation set. The parameters tuned are defined below:\n",
    "- epochs - # of full iterations over the samples\n",
    "- batch_size -# of training examples in a single batch\n",
    "- learning rate - Amount that weights are updated during training\n",
    "- h_layer_seq - # of layers, size of layers, and sequence\n",
    "- final_count - # of outputs (1 for binary classification)\n",
    "\n",
    "The final model we built uses 3 layers (one hidden) with the sizes shown in the code block below, a learning rate of 0.001, 312 batch size, and 12 epochs. We tuned the model until we reached convergence between the training and validation sets and validation loss began to plateau."
   ]
  },
  {
   "cell_type": "code",
   "execution_count": 70,
   "metadata": {},
   "outputs": [],
   "source": [
    "from tensorflow import keras\n",
    "import tensorflow as tf\n",
    "from tensorflow.keras.layers import Dense, Dropout\n",
    "\n",
    "#-------------------------\n",
    "# Set some hyper parameters\n",
    "#-------------------------\n",
    "\n",
    "# Total number of training epochs\n",
    "epochs = 12\n",
    "\n",
    "# Training batch size\n",
    "batch_size = 312\n",
    "\n",
    "# The optimization initial learning rate\n",
    "learning_rate = 0.001\n",
    "\n",
    "# Hidden layer sizes\n",
    "h_layer_seq = [50, 15, 5]\n",
    "final_count = 1\n",
    "\n",
    "# x-data feature size\n",
    "n_features = X_train.shape[1]"
   ]
  },
  {
   "cell_type": "markdown",
   "metadata": {},
   "source": [
    "We added a 10% drop out rate that forces the model to work harder to find different paths in predicting the target. This prevents overfitting because each node in our model cannot rely on the output of other nodes. Setting the parameter to 10%, drops 10% of input elements, putting more pressure on other nodes to perform during the training process. We settled on this rate after 3 iterations on the validation set using 5%, 10%, and 20% dropout rates."
   ]
  },
  {
   "cell_type": "code",
   "execution_count": 71,
   "metadata": {},
   "outputs": [
    {
     "name": "stdout",
     "output_type": "stream",
     "text": [
      "Model: \"sequential_3\"\n",
      "_________________________________________________________________\n",
      "Layer (type)                 Output Shape              Param #   \n",
      "=================================================================\n",
      "dense_12 (Dense)             (None, 50)                6150      \n",
      "_________________________________________________________________\n",
      "dense_13 (Dense)             (None, 15)                765       \n",
      "_________________________________________________________________\n",
      "dropout_6 (Dropout)          (None, 15)                0         \n",
      "_________________________________________________________________\n",
      "dense_14 (Dense)             (None, 5)                 80        \n",
      "_________________________________________________________________\n",
      "dropout_7 (Dropout)          (None, 5)                 0         \n",
      "_________________________________________________________________\n",
      "dense_15 (Dense)             (None, 1)                 6         \n",
      "=================================================================\n",
      "Total params: 7,001\n",
      "Trainable params: 7,001\n",
      "Non-trainable params: 0\n",
      "_________________________________________________________________\n"
     ]
    }
   ],
   "source": [
    "# Initialize a \"sequential model\" with tf.keras\n",
    "model = tf.keras.Sequential()\n",
    "\n",
    "# Add layers sequentially\n",
    "for h_ix, h_num in enumerate(h_layer_seq):\n",
    "    if h_ix == 0:\n",
    "        # Need to set input Dimensions\n",
    "        model.add(Dense(h_num, activation='relu', kernel_initializer='random_normal', input_shape=(n_features,)))\n",
    "    else:\n",
    "        model.add(Dense(h_num, activation='relu', kernel_initializer='random_normal'))\n",
    "        # Add dropout!\n",
    "        model.add(Dropout(rate=0.1))\n",
    "\n",
    "\n",
    "# Add final output\n",
    "model.add(Dense(final_count, activation='sigmoid'))\n",
    "\n",
    "model.summary()"
   ]
  },
  {
   "cell_type": "markdown",
   "metadata": {},
   "source": [
    "Next, we will set up an optimizer that implements the Adam algorithm. The Adam optimizer is a stochastic gradient descent method that looks to minimize, in our case, binary cross entropy loss. This is the standard loss function used for binary classification."
   ]
  },
  {
   "cell_type": "code",
   "execution_count": 72,
   "metadata": {},
   "outputs": [
    {
     "name": "stdout",
     "output_type": "stream",
     "text": [
      "Model: \"sequential_3\"\n",
      "_________________________________________________________________\n",
      "Layer (type)                 Output Shape              Param #   \n",
      "=================================================================\n",
      "dense_12 (Dense)             (None, 50)                6150      \n",
      "_________________________________________________________________\n",
      "dense_13 (Dense)             (None, 15)                765       \n",
      "_________________________________________________________________\n",
      "dropout_6 (Dropout)          (None, 15)                0         \n",
      "_________________________________________________________________\n",
      "dense_14 (Dense)             (None, 5)                 80        \n",
      "_________________________________________________________________\n",
      "dropout_7 (Dropout)          (None, 5)                 0         \n",
      "_________________________________________________________________\n",
      "dense_15 (Dense)             (None, 1)                 6         \n",
      "=================================================================\n",
      "Total params: 7,001\n",
      "Trainable params: 7,001\n",
      "Non-trainable params: 0\n",
      "_________________________________________________________________\n"
     ]
    }
   ],
   "source": [
    "# Setup / Compile model\n",
    "# Setup model with ADAM optimization & binary cross entropy loss\n",
    "\n",
    "my_optmizer = tf.keras.optimizers.Adam(\n",
    "    learning_rate=learning_rate, beta_1=0.8, beta_2=0.99, epsilon=1e-07, amsgrad=False,\n",
    "    name='Adam')\n",
    "model.compile(optimizer=my_optmizer, loss='binary_crossentropy', metrics=['AUC'])\n",
    "model.summary()"
   ]
  },
  {
   "cell_type": "markdown",
   "metadata": {},
   "source": [
    "We are now ready to fit the model with the parameters specified above and evaluate our validation set AUC."
   ]
  },
  {
   "cell_type": "code",
   "execution_count": 73,
   "metadata": {},
   "outputs": [
    {
     "name": "stdout",
     "output_type": "stream",
     "text": [
      "Epoch 1/12\n",
      "8/8 [==============================] - 1s 75ms/step - loss: 0.6925 - auc: 0.5587 - val_loss: 0.6915 - val_auc: 0.6538\n",
      "Epoch 2/12\n",
      "8/8 [==============================] - 0s 5ms/step - loss: 0.6898 - auc: 0.7126 - val_loss: 0.6866 - val_auc: 0.8247\n",
      "Epoch 3/12\n",
      "8/8 [==============================] - 0s 4ms/step - loss: 0.6825 - auc: 0.8141 - val_loss: 0.6760 - val_auc: 0.8691\n",
      "Epoch 4/12\n",
      "8/8 [==============================] - 0s 5ms/step - loss: 0.6669 - auc: 0.8511 - val_loss: 0.6547 - val_auc: 0.8716\n",
      "Epoch 5/12\n",
      "8/8 [==============================] - 0s 4ms/step - loss: 0.6350 - auc: 0.8822 - val_loss: 0.6220 - val_auc: 0.8635\n",
      "Epoch 6/12\n",
      "8/8 [==============================] - 0s 5ms/step - loss: 0.5894 - auc: 0.8926 - val_loss: 0.5817 - val_auc: 0.8569\n",
      "Epoch 7/12\n",
      "8/8 [==============================] - 0s 4ms/step - loss: 0.5349 - auc: 0.9090 - val_loss: 0.5442 - val_auc: 0.8540\n",
      "Epoch 8/12\n",
      "8/8 [==============================] - 0s 5ms/step - loss: 0.4756 - auc: 0.9224 - val_loss: 0.5134 - val_auc: 0.8545\n",
      "Epoch 9/12\n",
      "8/8 [==============================] - 0s 6ms/step - loss: 0.4167 - auc: 0.9339 - val_loss: 0.4898 - val_auc: 0.8573\n",
      "Epoch 10/12\n",
      "8/8 [==============================] - 0s 6ms/step - loss: 0.3622 - auc: 0.9448 - val_loss: 0.4822 - val_auc: 0.8602\n",
      "Epoch 11/12\n",
      "8/8 [==============================] - 0s 5ms/step - loss: 0.3126 - auc: 0.9581 - val_loss: 0.4826 - val_auc: 0.8621\n",
      "Epoch 12/12\n",
      "8/8 [==============================] - 0s 5ms/step - loss: 0.2641 - auc: 0.9710 - val_loss: 0.4925 - val_auc: 0.8638\n"
     ]
    }
   ],
   "source": [
    "model_logs = model.fit(X_train, y_train,\n",
    "                       epochs=epochs, batch_size=batch_size,\n",
    "                       validation_data=(X_valid, y_valid), verbose=1)"
   ]
  },
  {
   "cell_type": "code",
   "execution_count": 74,
   "metadata": {},
   "outputs": [
    {
     "data": {
      "image/png": "[encoded data removed]",
      "text/plain": [
       "<Figure size 432x288 with 1 Axes>"
      ]
     },
     "metadata": {
      "needs_background": "light"
     },
     "output_type": "display_data"
    },
    {
     "data": {
      "image/png": "[encoded data removed]",
      "text/plain": [
       "<Figure size 432x288 with 1 Axes>"
      ]
     },
     "metadata": {
      "needs_background": "light"
     },
     "output_type": "display_data"
    }
   ],
   "source": [
    "# Plot auc\n",
    "plt.plot(model_logs.history['auc'])\n",
    "plt.plot(model_logs.history['val_auc'])\n",
    "plt.title('Model auc')\n",
    "plt.ylabel('auc')\n",
    "plt.xlabel('Epoch')\n",
    "plt.legend(['Train', 'Validation'], loc='upper left')\n",
    "plt.grid()\n",
    "plt.show()\n",
    "# plot loss\n",
    "plt.plot(model_logs.history['loss'])\n",
    "plt.plot(model_logs.history['val_loss'])\n",
    "plt.title('Model Loss')\n",
    "plt.ylabel('Loss')\n",
    "plt.xlabel('Epoch')\n",
    "plt.legend(['Train', 'Validation'], loc='upper left')\n",
    "plt.grid()\n",
    "plt.show()"
   ]
  },
  {
   "cell_type": "markdown",
   "metadata": {},
   "source": [
    "We can see that the model converges around epoch 10. Note that the AUC we achieved with this model still underperforms our random forest benchmark model. Let's check our other performance metrics before making any decisions."
   ]
  },
  {
   "cell_type": "code",
   "execution_count": 99,
   "metadata": {},
   "outputs": [],
   "source": [
    "tf_train_prob = model.predict(X_train)\n",
    "tf_valid_prob = model.predict(X_valid)"
   ]
  },
  {
   "cell_type": "code",
   "execution_count": 100,
   "metadata": {},
   "outputs": [],
   "source": [
    "#set probabilities > 50% to 1\n",
    "\n",
    "y_hat_train_tf = (tf_train_prob > 0.5)*1\n",
    "y_hat_valid_tf = (tf_valid_prob > 0.5)*1"
   ]
  },
  {
   "cell_type": "code",
   "execution_count": 101,
   "metadata": {},
   "outputs": [
    {
     "name": "stdout",
     "output_type": "stream",
     "text": [
      "10/10 [==============================] - 0s 1ms/step - loss: 0.4925 - auc: 0.8638\n"
     ]
    },
    {
     "data": {
      "text/plain": [
       "[0.49247512221336365, 0.8637604713439941]"
      ]
     },
     "execution_count": 101,
     "metadata": {},
     "output_type": "execute_result"
    }
   ],
   "source": [
    "model.evaluate(X_valid, y_valid, verbose = 1)"
   ]
  },
  {
   "cell_type": "code",
   "execution_count": 102,
   "metadata": {},
   "outputs": [],
   "source": [
    "#generate confusion matrix\n",
    "\n",
    "from sklearn.metrics import confusion_matrix\n",
    "\n",
    "train_cmatrix = confusion_matrix(y_train, y_hat_train_tf)\n",
    "valid_cmatrix = confusion_matrix(y_valid, y_hat_valid_tf)"
   ]
  },
  {
   "cell_type": "code",
   "execution_count": 103,
   "metadata": {},
   "outputs": [
    {
     "name": "stdout",
     "output_type": "stream",
     "text": [
      "Train set precision: 94.0%\n",
      "Train set recall: 95.8% \n",
      "\n",
      "Validation set precision: 84.7%\n",
      "Validation set recall: 71.4%\n"
     ]
    }
   ],
   "source": [
    "#create & print precision-recall variables\n",
    "\n",
    "tf_precision_train = train_cmatrix[1][1]/(train_cmatrix[1][1] + train_cmatrix[0][1])*100\n",
    "tf_recall_train = train_cmatrix[1][1]/(train_cmatrix[1][1] + train_cmatrix[1][0])*100\n",
    "tf_precision_valid = valid_cmatrix[1][1]/(valid_cmatrix[1][1] + valid_cmatrix[0][1])*100\n",
    "tf_recall_valid = valid_cmatrix[1][1]/(valid_cmatrix[1][1] + valid_cmatrix[1][0])*100\n",
    "print(\"Train set precision: {:.1f}%\".format(tf_precision_train))\n",
    "print(\"Train set recall: {:.1f}% \\n\".format(tf_recall_train))\n",
    "print(\"Validation set precision: {:.1f}%\".format(tf_precision_valid))\n",
    "print(\"Validation set recall: {:.1f}%\".format(tf_recall_valid))"
   ]
  },
  {
   "cell_type": "markdown",
   "metadata": {},
   "source": [
    "Despite building a deeper architecture and adding dropout to our neural network, we were not able to outperform the random forest classifier, which had an AUC above 90%.\n",
    "\n",
    "In our final section, we will predict on the test set using our random forest and TensorFlow model. While we can assess the performance of these models on the test set, it is common practice to finish tuning parameters during the training and validation phase so that the test set is not biased in any way. The final section will therefore only be used to choose a final model. This is our best simulation of how the model might perform on an unseen data set."
   ]
  },
  {
   "cell_type": "markdown",
   "metadata": {},
   "source": [
    "### Choosing a Final Model"
   ]
  },
  {
   "cell_type": "markdown",
   "metadata": {},
   "source": [
    "We'll start by checking the random forest's performance metrics."
   ]
  },
  {
   "cell_type": "code",
   "execution_count": 104,
   "metadata": {},
   "outputs": [
    {
     "name": "stdout",
     "output_type": "stream",
     "text": [
      "Test set rf accuracy: 91.08%\n"
     ]
    },
    {
     "name": "stderr",
     "output_type": "stream",
     "text": [
      "[Parallel(n_jobs=1)]: Using backend SequentialBackend with 1 concurrent workers.\n",
      "[Parallel(n_jobs=1)]: Done 1000 out of 1000 | elapsed:    0.0s finished\n"
     ]
    }
   ],
   "source": [
    "#predict and check accuracy\n",
    "\n",
    "y_hat_test_rf = clf_rf.predict(X_test)\n",
    "acc_test_rf = accuracy_score(y_test, y_hat_test_rf)\n",
    "\n",
    "print('Test set rf accuracy: {:.2f}%'.format(acc_test_rf * 100))"
   ]
  },
  {
   "cell_type": "code",
   "execution_count": 105,
   "metadata": {},
   "outputs": [
    {
     "name": "stdout",
     "output_type": "stream",
     "text": [
      "Precision on test data: 16.7%\n",
      "Recall on test data: 10.0%\n"
     ]
    }
   ],
   "source": [
    "recall_test_rf = recall_score(y_test, y_hat_test_rf, pos_label = 1) * 100\n",
    "precision_test_rf = precision_score(y_test, y_hat_test_rf, pos_label = 1) * 100\n",
    "\n",
    "print(\"Precision on test data: {:.1f}%\".format(precision_test_rf))\n",
    "print(\"Recall on test data: {:.1f}%\".format(recall_test_rf))"
   ]
  },
  {
   "cell_type": "code",
   "execution_count": 106,
   "metadata": {},
   "outputs": [
    {
     "name": "stderr",
     "output_type": "stream",
     "text": [
      "[Parallel(n_jobs=1)]: Using backend SequentialBackend with 1 concurrent workers.\n",
      "[Parallel(n_jobs=1)]: Done 1000 out of 1000 | elapsed:    0.0s finished\n"
     ]
    },
    {
     "data": {
      "image/png": "[encoded data removed]",
      "text/plain": [
       "<Figure size 432x288 with 2 Axes>"
      ]
     },
     "metadata": {
      "needs_background": "light"
     },
     "output_type": "display_data"
    }
   ],
   "source": [
    "plot_confusion_matrix(clf_rf, X_test, y_test);"
   ]
  },
  {
   "cell_type": "code",
   "execution_count": 107,
   "metadata": {},
   "outputs": [
    {
     "name": "stdout",
     "output_type": "stream",
     "text": [
      "Validation AUC: 53.3%.\n"
     ]
    }
   ],
   "source": [
    "print(\"Validation AUC: {:.1f}%.\".format(roc_auc_score(y_test, y_hat_test_rf)*100))"
   ]
  },
  {
   "cell_type": "markdown",
   "metadata": {},
   "source": [
    "The random forest model performed significantly worse on the test set. With an AUC of only 53%, the model performs hardly better than a coin flip. Both precision and recall were near zero. As expected, the model was not able to detect defective products due to the class imbalance and small sample. Random forest is typically an algorithm which requires a lot of data because it uses a high volume of decision trees in its training process.\n",
    "\n",
    "Let's see if our TensorFlow model can outperform this model."
   ]
  },
  {
   "cell_type": "code",
   "execution_count": 108,
   "metadata": {},
   "outputs": [],
   "source": [
    "tf_test_prob = model.predict(X_test)\n",
    "y_hat_test_tf = (tf_test_prob > 0.5)*1"
   ]
  },
  {
   "cell_type": "code",
   "execution_count": 109,
   "metadata": {},
   "outputs": [
    {
     "name": "stdout",
     "output_type": "stream",
     "text": [
      "5/5 [==============================] - 0s 2ms/step - loss: 0.3417 - auc: 0.7238\n"
     ]
    },
    {
     "data": {
      "text/plain": [
       "[0.3416617214679718, 0.723809540271759]"
      ]
     },
     "execution_count": 109,
     "metadata": {},
     "output_type": "execute_result"
    }
   ],
   "source": [
    "model.evaluate(X_test, y_test, verbose = 1)"
   ]
  },
  {
   "cell_type": "code",
   "execution_count": 110,
   "metadata": {},
   "outputs": [
    {
     "name": "stdout",
     "output_type": "stream",
     "text": [
      "Test set precision: 12.5%\n",
      "Test set recall: 20.0%\n"
     ]
    }
   ],
   "source": [
    "test_cmatrix = confusion_matrix(y_test, y_hat_test_tf)\n",
    "tf_precision_test = test_cmatrix[1][1]/(test_cmatrix[1][1] + test_cmatrix[0][1])*100\n",
    "tf_recall_test = test_cmatrix[1][1]/(test_cmatrix[1][1] + test_cmatrix[1][0])*100\n",
    "\n",
    "print(\"Test set precision: {:.1f}%\".format(tf_precision_test))\n",
    "print(\"Test set recall: {:.1f}%\".format(tf_recall_test))"
   ]
  },
  {
   "cell_type": "markdown",
   "metadata": {},
   "source": [
    "With an AUC of 72%, the TF model significantly outperforms our random forest classifier despite not performing quite as well on the validation set. It's ability to perform better on an imbalanced set of data, which is what the model will face in reality, should provide us more confidence that it will better than the random forest in a production environment."
   ]
  },
  {
   "cell_type": "markdown",
   "metadata": {},
   "source": [
    "## Findings"
   ]
  },
  {
   "cell_type": "markdown",
   "metadata": {},
   "source": [
    "Our goal in building these data models and analysis was to see whether we could build a machine learning model that would predict whether a particular product in the diaper manufacturing process is defective ahead of time, using sensor information collected on each observation. Of the models built in this process, our final model, which was built using TensorFlow proved to be the most robust with an AUC of 72% on the test set. Having said that, the final model chosen here should be used in production with caution. The precision and recall of this model was under 25%, meaning it was unable to detect most of the positive cases and predicted many false positives.\n",
    "\n",
    "With 1567 observations and only ~7% of them, as defective; our models were not able to produce very consistent results on unseen data. To optimize these models, we suggest collecting more data (including non sensor data as well) to be used in training. This will help the models built here to learn the underlying structures and relationships within the data better. As expected, each of the models predicted the majority class very well, but could not identify positive cases well.\n",
    "\n",
    "If false positives/negatives are expected to be very costly to the organization and there are other investment risks associated with building processes around an inconsistent model such as this, it may be more valuable to build a rule based classifier using the most predictive sensors from our analysis and other related domain knowledge. Doing this could be both interpretable for decision makers and also moderately accurate in production, all without having to spend the resources required to deploy a fully connected neural network."
   ]
  }
 ],
 "metadata": {
  "kernelspec": {
   "display_name": "Python 3",
   "language": "python",
   "name": "python3"
  },
  "language_info": {
   "codemirror_mode": {
    "name": "ipython",
    "version": 3
   },
   "file_extension": ".py",
   "mimetype": "text/x-python",
   "name": "python",
   "nbconvert_exporter": "python",
   "pygments_lexer": "ipython3",
   "version": "3.7.6"
  }
 },
 "nbformat": 4,
 "nbformat_minor": 4
}
